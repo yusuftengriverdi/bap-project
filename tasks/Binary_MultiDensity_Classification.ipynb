{
 "cells": [
  {
   "cell_type": "code",
   "execution_count": 1,
   "id": "b68e7421",
   "metadata": {
    "scrolled": false
   },
   "outputs": [],
   "source": [
    "# !pip install -r requirements.txt\n",
    "## Base of notebooks\n",
    "%load_ext autoreload\n",
    "%autoreload 2\n",
    "import tensorflow as tf"
   ]
  },
  {
   "cell_type": "code",
   "execution_count": 2,
   "id": "15a5ec81",
   "metadata": {},
   "outputs": [],
   "source": [
    "from datetime import datetime\n",
    "\n",
    "now = datetime.now() # current date and time\n",
    "date = now.strftime(\"%Y-%m-%d\")\n",
    "img_size = 128\n",
    "task  = 'multidensity-allvs200'"
   ]
  },
  {
   "cell_type": "code",
   "execution_count": 3,
   "id": "afae7156",
   "metadata": {},
   "outputs": [],
   "source": [
    "import sys \n",
    "sys.path.append('..')\n",
    "\n",
    "from utils import *\n",
    "import models"
   ]
  },
  {
   "cell_type": "code",
   "execution_count": 4,
   "id": "d104964f",
   "metadata": {},
   "outputs": [
    {
     "name": "stderr",
     "output_type": "stream",
     "text": [
      "100%|██████████| 51/51 [00:07<00:00,  6.72it/s]\n",
      "100%|██████████| 49/49 [00:07<00:00,  6.42it/s]\n",
      "100%|██████████| 100/100 [00:15<00:00,  6.27it/s]\n",
      "100%|██████████| 161/161 [00:24<00:00,  6.55it/s]\n",
      "100%|██████████| 153/153 [00:25<00:00,  6.10it/s]\n",
      "100%|██████████| 43/43 [00:06<00:00,  6.39it/s]\n"
     ]
    },
    {
     "name": "stdout",
     "output_type": "stream",
     "text": [
      "Al for 5 Cannot found!\n"
     ]
    },
    {
     "name": "stderr",
     "output_type": "stream",
     "text": [
      "100%|██████████| 16/16 [00:02<00:00,  6.95it/s]\n",
      "100%|██████████| 150/150 [00:23<00:00,  6.48it/s]\n",
      "100%|██████████| 136/136 [00:21<00:00,  6.27it/s]\n",
      "100%|██████████| 53/53 [00:07<00:00,  6.66it/s]\n",
      "100%|██████████| 50/50 [00:07<00:00,  6.73it/s]\n",
      "100%|██████████| 97/97 [00:15<00:00,  6.38it/s]\n",
      "100%|██████████| 150/150 [00:21<00:00,  6.98it/s]\n",
      "100%|██████████| 150/150 [00:16<00:00,  9.36it/s]"
     ]
    },
    {
     "name": "stdout",
     "output_type": "stream",
     "text": [
      "Fe2 : 51\n",
      "Fe5 : 49\n",
      "Fe10 : 100\n",
      "Fe20 : 161\n",
      "Fe200 : 153\n",
      "Al2 : 43\n",
      "Al10 : 16\n",
      "Al20 : 150\n",
      "Al200 : 136\n",
      "Pb2 : 53\n",
      "Pb5 : 50\n",
      "Pb10 : 97\n",
      "Pb20 : 150\n",
      "Pb200 : 150\n",
      "dict_keys(['Fe2', 'Fe5', 'Fe10', 'Fe20', 'Fe200', 'Al2', 'Al10', 'Al20', 'Al200', 'Pb2', 'Pb5', 'Pb10', 'Pb20', 'Pb200'])\n"
     ]
    },
    {
     "name": "stderr",
     "output_type": "stream",
     "text": [
      "\n"
     ]
    }
   ],
   "source": [
    "base_data = stack_images(im_size=img_size, directory= \"C:\\\\Users\\\\baran.tanriverdi\\\\Final Data\")"
   ]
  },
  {
   "cell_type": "code",
   "execution_count": 5,
   "id": "bb63944d",
   "metadata": {},
   "outputs": [
    {
     "data": {
      "text/plain": [
       "(49, 128, 128, 3)"
      ]
     },
     "execution_count": 5,
     "metadata": {},
     "output_type": "execute_result"
    }
   ],
   "source": [
    "np.asarray(base_data['Fe5']).shape"
   ]
  },
  {
   "cell_type": "code",
   "execution_count": 6,
   "id": "ff2b940d",
   "metadata": {},
   "outputs": [
    {
     "name": "stdout",
     "output_type": "stream",
     "text": [
      "(920, 128, 128, 3)\n",
      "(439, 128, 128, 3)\n",
      "1359 920 439\n"
     ]
    },
    {
     "name": "stderr",
     "output_type": "stream",
     "text": [
      "C:\\Users\\baran.tanriverdi\\AppData\\Local\\Temp\\ipykernel_5492\\1521005721.py:39: VisibleDeprecationWarning: Creating an ndarray from ragged nested sequences (which is a list-or-tuple of lists-or-tuples-or ndarrays with different lengths or shapes) is deprecated. If you meant to do this, you must specify 'dtype=object' when creating the ndarray.\n",
      "  data = np.asarray(imlist)\n"
     ]
    },
    {
     "name": "stdout",
     "output_type": "stream",
     "text": [
      "1019 340\n"
     ]
    }
   ],
   "source": [
    "# Configyure for current experiment\n",
    "\n",
    "x1 = []\n",
    "for imset in [\n",
    "    base_data['Fe2'], \n",
    "    base_data['Fe5'], \n",
    "    base_data['Fe10'], \n",
    "    base_data['Fe20'], \n",
    "    base_data['Al2'], \n",
    "    base_data['Al10'], \n",
    "    base_data['Al20'], \n",
    "    base_data['Pb2'], \n",
    "    base_data['Pb5'], \n",
    "    base_data['Pb10'],\n",
    "    base_data['Pb20']]:\n",
    "    for im in imset:\n",
    "        x1.append(im)\n",
    "print(np.asarray(x1).shape)\n",
    "\n",
    "x2 = []\n",
    "for imset in [\n",
    "    base_data['Fe200'],\n",
    "    base_data['Al200'],\n",
    "    base_data['Pb200']]:\n",
    "    for im in imset:\n",
    "        x2.append(im)\n",
    "print(np.asarray(x2).shape)\n",
    "        \n",
    "\n",
    "imlist = []\n",
    "one_hot_vector = np.eye(2)\n",
    "for x in x1:\n",
    "    imlist.append([x, one_hot_vector[0]])\n",
    "for x in x2:\n",
    "    imlist.append([x, one_hot_vector[1]])  \n",
    "    \n",
    "print(len(imlist), len(x1), len(x2))\n",
    "\n",
    "data = np.asarray(imlist)\n",
    "\n",
    "np.random.shuffle(data)\n",
    "\n",
    "x = np.asarray([i[0] / 255.0 for i in data])\n",
    "y = np.asarray([i[1] for i in data])\n",
    "\n",
    "len(x), len(y)\n",
    "\n",
    "boundary = int(len(x) * 0.75)\n",
    "\n",
    "train_x = x[:boundary]\n",
    "train_y = y[:boundary]\n",
    "test_x = x[boundary:]\n",
    "test_y = y[boundary:]\n",
    "\n",
    "print(len(train_x), len(test_x))"
   ]
  },
  {
   "cell_type": "code",
   "execution_count": 8,
   "id": "cfb962c1",
   "metadata": {},
   "outputs": [
    {
     "name": "stdout",
     "output_type": "stream",
     "text": [
      "<keras.engine.functional.Functional object at 0x000001CC01A5CBB0>\n"
     ]
    },
    {
     "name": "stderr",
     "output_type": "stream",
     "text": [
      "C:\\Users\\baran.tanriverdi\\Anaconda3\\envs\\tf\\lib\\site-packages\\keras\\optimizer_v2\\adam.py:105: UserWarning: The `lr` argument is deprecated, use `learning_rate` instead.\n",
      "  super(Adam, self).__init__(name, **kwargs)\n"
     ]
    },
    {
     "name": "stdout",
     "output_type": "stream",
     "text": [
      "Model: \"vgg5_block\"\n",
      "_________________________________________________________________\n",
      " Layer (type)                Output Shape              Param #   \n",
      "=================================================================\n",
      " conv2d_17 (Conv2D)          (None, 128, 128, 32)      896       \n",
      "                                                                 \n",
      " conv2d_18 (Conv2D)          (None, 128, 128, 32)      9248      \n",
      "                                                                 \n",
      " max_pooling2d_3 (MaxPooling  (None, 64, 64, 32)       0         \n",
      " 2D)                                                             \n",
      "                                                                 \n",
      " conv2d_19 (Conv2D)          (None, 64, 64, 64)        18496     \n",
      "                                                                 \n",
      " conv2d_20 (Conv2D)          (None, 64, 64, 64)        36928     \n",
      "                                                                 \n",
      " max_pooling2d_4 (MaxPooling  (None, 32, 32, 64)       0         \n",
      " 2D)                                                             \n",
      "                                                                 \n",
      " conv2d_21 (Conv2D)          (None, 32, 32, 128)       73856     \n",
      "                                                                 \n",
      " conv2d_22 (Conv2D)          (None, 32, 32, 128)       147584    \n",
      "                                                                 \n",
      " max_pooling2d_5 (MaxPooling  (None, 16, 16, 128)      0         \n",
      " 2D)                                                             \n",
      "                                                                 \n",
      " conv2d_23 (Conv2D)          (None, 16, 16, 256)       295168    \n",
      "                                                                 \n",
      " conv2d_24 (Conv2D)          (None, 16, 16, 256)       590080    \n",
      "                                                                 \n",
      " max_pooling2d_6 (MaxPooling  (None, 8, 8, 256)        0         \n",
      " 2D)                                                             \n",
      "                                                                 \n",
      " conv2d_25 (Conv2D)          (None, 8, 8, 1024)        2360320   \n",
      "                                                                 \n",
      " conv2d_26 (Conv2D)          (None, 8, 8, 1024)        9438208   \n",
      "                                                                 \n",
      " max_pooling2d_7 (MaxPooling  (None, 4, 4, 1024)       0         \n",
      " 2D)                                                             \n",
      "                                                                 \n",
      " flatten (Flatten)           (None, 16384)             0         \n",
      "                                                                 \n",
      " dense_3 (Dense)             (None, 256)               4194560   \n",
      "                                                                 \n",
      " dropout_2 (Dropout)         (None, 256)               0         \n",
      "                                                                 \n",
      " dense_4 (Dense)             (None, 32)                8224      \n",
      "                                                                 \n",
      " dropout_3 (Dropout)         (None, 32)                0         \n",
      "                                                                 \n",
      " dense_5 (Dense)             (None, 2)                 66        \n",
      "                                                                 \n",
      "=================================================================\n",
      "Total params: 17,173,634\n",
      "Trainable params: 17,173,634\n",
      "Non-trainable params: 0\n",
      "_________________________________________________________________\n",
      "None\n"
     ]
    },
    {
     "name": "stderr",
     "output_type": "stream",
     "text": [
      "\r",
      "  0%|          | 0/2 [00:00<?, ?it/s]"
     ]
    },
    {
     "name": "stdout",
     "output_type": "stream",
     "text": [
      "unet\n",
      "Epoch 1/25\n",
      "82/82 [==============================] - 4156s 50s/step - loss: 87.6668 - accuracy: 0.6110 - f1_score: 0.5544 - cohen_kappa: -0.5613 - MatthewsCorrelationCoefficient: -0.0307 - auc: 0.6052 - val_loss: 0.6279 - val_accuracy: 0.6961 - val_f1_score: 0.5997 - val_cohen_kappa: -0.3972 - val_MatthewsCorrelationCoefficient: 0.1071 - val_auc: 0.7753\n",
      "Epoch 2/25\n",
      "82/82 [==============================] - 4112s 50s/step - loss: 0.6850 - accuracy: 0.6601 - f1_score: 0.5445 - cohen_kappa: -0.4150 - MatthewsCorrelationCoefficient: 0.0114 - auc: 0.6819 - val_loss: 0.6035 - val_accuracy: 0.6961 - val_f1_score: 0.5846 - val_cohen_kappa: -0.3721 - val_MatthewsCorrelationCoefficient: 0.0946 - val_auc: 0.7675\n",
      "Epoch 3/25\n",
      "82/82 [==============================] - 4093s 50s/step - loss: 0.6250 - accuracy: 0.6798 - f1_score: 0.5815 - cohen_kappa: -0.4340 - MatthewsCorrelationCoefficient: 0.1449 - auc: 0.7147 - val_loss: 0.5877 - val_accuracy: 0.6961 - val_f1_score: 0.5763 - val_cohen_kappa: -0.3596 - val_MatthewsCorrelationCoefficient: 0.1050 - val_auc: 0.7722\n",
      "Epoch 4/25\n",
      "82/82 [==============================] - 4101s 50s/step - loss: 0.6000 - accuracy: 0.6736 - f1_score: 0.5777 - cohen_kappa: -0.4420 - MatthewsCorrelationCoefficient: 0.1138 - auc: 0.7398 - val_loss: 0.5636 - val_accuracy: 0.7108 - val_f1_score: 0.6156 - val_cohen_kappa: -0.3909 - val_MatthewsCorrelationCoefficient: 0.1976 - val_auc: 0.7834\n",
      "Epoch 5/25\n",
      "82/82 [==============================] - 4083s 50s/step - loss: 0.5882 - accuracy: 0.6969 - f1_score: 0.6441 - cohen_kappa: -0.5327 - MatthewsCorrelationCoefficient: 0.2288 - auc: 0.7447 - val_loss: 0.5437 - val_accuracy: 0.7353 - val_f1_score: 0.7094 - val_cohen_kappa: -0.5748 - val_MatthewsCorrelationCoefficient: 0.3150 - val_auc: 0.8081\n",
      "Epoch 6/25\n",
      "82/82 [==============================] - 4098s 50s/step - loss: 0.5961 - accuracy: 0.6859 - f1_score: 0.6261 - cohen_kappa: -0.5184 - MatthewsCorrelationCoefficient: 0.1880 - auc: 0.7511 - val_loss: 0.5286 - val_accuracy: 0.7108 - val_f1_score: 0.6503 - val_cohen_kappa: -0.4668 - val_MatthewsCorrelationCoefficient: 0.2035 - val_auc: 0.8135\n",
      "Epoch 7/25\n",
      "82/82 [==============================] - 4103s 50s/step - loss: 0.5918 - accuracy: 0.7018 - f1_score: 0.6547 - cohen_kappa: -0.5486 - MatthewsCorrelationCoefficient: 0.2477 - auc: 0.7575 - val_loss: 0.5375 - val_accuracy: 0.7402 - val_f1_score: 0.6901 - val_cohen_kappa: -0.4795 - val_MatthewsCorrelationCoefficient: 0.3148 - val_auc: 0.8134\n",
      "Epoch 8/25\n",
      "82/82 [==============================] - 4113s 50s/step - loss: 0.5352 - accuracy: 0.7264 - f1_score: 0.7022 - cohen_kappa: -0.6305 - MatthewsCorrelationCoefficient: 0.3333 - auc: 0.8104 - val_loss: 0.4903 - val_accuracy: 0.7745 - val_f1_score: 0.7422 - val_cohen_kappa: -0.5241 - val_MatthewsCorrelationCoefficient: 0.4277 - val_auc: 0.8536\n",
      "Epoch 9/25\n",
      "82/82 [==============================] - 3852s 47s/step - loss: 0.6280 - accuracy: 0.7288 - f1_score: 0.6963 - cohen_kappa: -0.5898 - MatthewsCorrelationCoefficient: 0.3347 - auc: 0.7917 - val_loss: 0.6341 - val_accuracy: 0.7206 - val_f1_score: 0.6857 - val_cohen_kappa: -0.5431 - val_MatthewsCorrelationCoefficient: 0.2617 - val_auc: 0.7624\n",
      "Epoch 10/25\n",
      "82/82 [==============================] - 3297s 40s/step - loss: 0.7367 - accuracy: 0.6650 - f1_score: 0.5982 - cohen_kappa: -0.5104 - MatthewsCorrelationCoefficient: 0.1111 - auc: 0.6943 - val_loss: 0.5781 - val_accuracy: 0.7059 - val_f1_score: 0.6055 - val_cohen_kappa: -0.3846 - val_MatthewsCorrelationCoefficient: 0.1685 - val_auc: 0.7789\n",
      "Epoch 11/25\n",
      "82/82 [==============================] - 2118s 26s/step - loss: 0.6253 - accuracy: 0.6675 - f1_score: 0.5422 - cohen_kappa: -0.3961 - MatthewsCorrelationCoefficient: 0.0469 - auc: 0.6949 - val_loss: 0.6026 - val_accuracy: 0.6912 - val_f1_score: 0.5650 - val_cohen_kappa: -0.3534 - val_MatthewsCorrelationCoefficient: 0.0000e+00 - val_auc: 0.7398\n",
      "Epoch 12/25\n",
      "82/82 [==============================] - 2039s 25s/step - loss: 0.6263 - accuracy: 0.6675 - f1_score: 0.5756 - cohen_kappa: -0.4531 - MatthewsCorrelationCoefficient: 0.0890 - auc: 0.7155 - val_loss: 0.5468 - val_accuracy: 0.7059 - val_f1_score: 0.6254 - val_cohen_kappa: -0.4224 - val_MatthewsCorrelationCoefficient: 0.1693 - val_auc: 0.7963\n",
      "Epoch 13/25\n",
      "82/82 [==============================] - 2039s 25s/step - loss: 0.5785 - accuracy: 0.7166 - f1_score: 0.6786 - cohen_kappa: -0.5740 - MatthewsCorrelationCoefficient: 0.2968 - auc: 0.7859 - val_loss: 0.5346 - val_accuracy: 0.7549 - val_f1_score: 0.7399 - val_cohen_kappa: -0.6250 - val_MatthewsCorrelationCoefficient: 0.3829 - val_auc: 0.8174\n",
      "Epoch 14/25\n",
      "82/82 [==============================] - 2041s 25s/step - loss: 0.7000 - accuracy: 0.6847 - f1_score: 0.6275 - cohen_kappa: -0.5264 - MatthewsCorrelationCoefficient: 0.1860 - auc: 0.7330 - val_loss: 0.6135 - val_accuracy: 0.6912 - val_f1_score: 0.5650 - val_cohen_kappa: -0.3534 - val_MatthewsCorrelationCoefficient: 0.0000e+00 - val_auc: 0.7610\n",
      "Epoch 15/25\n",
      "82/82 [==============================] - 1986s 24s/step - loss: 0.6386 - accuracy: 0.6699 - f1_score: 0.5456 - cohen_kappa: -0.3961 - MatthewsCorrelationCoefficient: 0.0751 - auc: 0.6845 - val_loss: 0.5997 - val_accuracy: 0.6765 - val_f1_score: 0.5578 - val_cohen_kappa: -0.3721 - val_MatthewsCorrelationCoefficient: -0.0817 - val_auc: 0.7563\n",
      "Epoch 16/25\n",
      "82/82 [==============================] - 1524s 19s/step - loss: 0.6808 - accuracy: 0.6626 - f1_score: 0.5516 - cohen_kappa: -0.4214 - MatthewsCorrelationCoefficient: 0.0365 - auc: 0.6865 - val_loss: 0.6015 - val_accuracy: 0.6863 - val_f1_score: 0.5626 - val_cohen_kappa: -0.3596 - val_MatthewsCorrelationCoefficient: -0.0469 - val_auc: 0.7619\n",
      "Epoch 17/25\n",
      "82/82 [==============================] - 1282s 16s/step - loss: 0.6253 - accuracy: 0.6675 - f1_score: 0.5400 - cohen_kappa: -0.3930 - MatthewsCorrelationCoefficient: 0.0444 - auc: 0.7221 - val_loss: 0.6000 - val_accuracy: 0.6912 - val_f1_score: 0.5650 - val_cohen_kappa: -0.3534 - val_MatthewsCorrelationCoefficient: 0.0000e+00 - val_auc: 0.7537\n",
      "Epoch 18/25\n",
      "82/82 [==============================] - 861s 10s/step - loss: 0.6170 - accuracy: 0.6663 - f1_score: 0.5328 - cohen_kappa: -0.3851 - MatthewsCorrelationCoefficient: 0.0000e+00 - auc: 0.7197 - val_loss: 0.5884 - val_accuracy: 0.6912 - val_f1_score: 0.5650 - val_cohen_kappa: -0.3534 - val_MatthewsCorrelationCoefficient: 0.0000e+00 - val_auc: 0.7533\n",
      "Epoch 19/25\n",
      "82/82 [==============================] - 709s 9s/step - loss: 0.6184 - accuracy: 0.6663 - f1_score: 0.5328 - cohen_kappa: -0.3851 - MatthewsCorrelationCoefficient: 0.0000e+00 - auc: 0.7191 - val_loss: 0.5875 - val_accuracy: 0.6912 - val_f1_score: 0.5650 - val_cohen_kappa: -0.3534 - val_MatthewsCorrelationCoefficient: 0.0000e+00 - val_auc: 0.7598\n",
      "Epoch 20/25\n",
      "82/82 [==============================] - 709s 9s/step - loss: 0.6153 - accuracy: 0.6663 - f1_score: 0.5328 - cohen_kappa: -0.3851 - MatthewsCorrelationCoefficient: 0.0000e+00 - auc: 0.7128 - val_loss: 0.5808 - val_accuracy: 0.6912 - val_f1_score: 0.5650 - val_cohen_kappa: -0.3534 - val_MatthewsCorrelationCoefficient: 0.0000e+00 - val_auc: 0.7614\n",
      "Epoch 21/25\n",
      "82/82 [==============================] - 709s 9s/step - loss: 0.6070 - accuracy: 0.6663 - f1_score: 0.5328 - cohen_kappa: -0.3851 - MatthewsCorrelationCoefficient: 0.0000e+00 - auc: 0.7325 - val_loss: 0.6085 - val_accuracy: 0.6912 - val_f1_score: 0.5650 - val_cohen_kappa: -0.3534 - val_MatthewsCorrelationCoefficient: 0.0000e+00 - val_auc: 0.7717\n",
      "Epoch 22/25\n",
      "82/82 [==============================] - 710s 9s/step - loss: 0.6156 - accuracy: 0.6699 - f1_score: 0.5456 - cohen_kappa: -0.3961 - MatthewsCorrelationCoefficient: 0.0751 - auc: 0.7295 - val_loss: 0.5768 - val_accuracy: 0.7059 - val_f1_score: 0.6468 - val_cohen_kappa: -0.4731 - val_MatthewsCorrelationCoefficient: 0.1874 - val_auc: 0.7743\n",
      "Epoch 23/25\n",
      "82/82 [==============================] - 709s 9s/step - loss: 36.0404 - accuracy: 0.6479 - f1_score: 0.5555 - cohen_kappa: -0.4626 - MatthewsCorrelationCoefficient: 0.0071 - auc: 0.6744 - val_loss: 1.7036 - val_accuracy: 0.6324 - val_f1_score: 0.5864 - val_cohen_kappa: -0.5431 - val_MatthewsCorrelationCoefficient: -0.0079 - val_auc: 0.6368\n",
      "Epoch 24/25\n"
     ]
    },
    {
     "name": "stdout",
     "output_type": "stream",
     "text": [
      "82/82 [==============================] - 710s 9s/step - loss: 15.8163 - accuracy: 0.6417 - f1_score: 0.5596 - cohen_kappa: -0.4865 - MatthewsCorrelationCoefficient: 0.0062 - auc: 0.6436 - val_loss: 0.6365 - val_accuracy: 0.6912 - val_f1_score: 0.5650 - val_cohen_kappa: -0.3534 - val_MatthewsCorrelationCoefficient: 0.0000e+00 - val_auc: 0.6912\n",
      "Epoch 25/25\n",
      "82/82 [==============================] - 710s 9s/step - loss: 0.6404 - accuracy: 0.6663 - f1_score: 0.5328 - cohen_kappa: -0.3851 - MatthewsCorrelationCoefficient: 0.0000e+00 - auc: 0.6744 - val_loss: 0.6250 - val_accuracy: 0.6912 - val_f1_score: 0.5650 - val_cohen_kappa: -0.3534 - val_MatthewsCorrelationCoefficient: 0.0000e+00 - val_auc: 0.6912\n"
     ]
    },
    {
     "name": "stderr",
     "output_type": "stream",
     "text": [
      "\r",
      " 50%|█████     | 1/2 [16:21:10<16:21:10, 58870.08s/it]"
     ]
    },
    {
     "name": "stdout",
     "output_type": "stream",
     "text": [
      "vgg5_block\n",
      "Epoch 1/25\n",
      "82/82 [==============================] - 51s 621ms/step - loss: 0.6867 - accuracy: 0.6356 - f1_score: 0.5928 - auc: 0.6433 - val_loss: 0.6604 - val_accuracy: 0.6961 - val_f1_score: 0.6882 - val_auc: 0.7993\n",
      "Epoch 2/25\n",
      "82/82 [==============================] - 50s 615ms/step - loss: 0.6334 - accuracy: 0.6724 - f1_score: 0.6266 - auc: 0.7041 - val_loss: 0.5830 - val_accuracy: 0.7206 - val_f1_score: 0.6823 - val_auc: 0.8127\n",
      "Epoch 3/25\n",
      "82/82 [==============================] - 51s 621ms/step - loss: 0.5988 - accuracy: 0.7018 - f1_score: 0.6811 - auc: 0.7512 - val_loss: 0.5418 - val_accuracy: 0.7696 - val_f1_score: 0.7459 - val_auc: 0.8283\n",
      "Epoch 4/25\n",
      "82/82 [==============================] - 51s 621ms/step - loss: 0.5969 - accuracy: 0.6748 - f1_score: 0.6535 - auc: 0.7437 - val_loss: 0.5428 - val_accuracy: 0.7206 - val_f1_score: 0.6470 - val_auc: 0.8043\n",
      "Epoch 5/25\n",
      "82/82 [==============================] - 51s 622ms/step - loss: 0.5567 - accuracy: 0.7043 - f1_score: 0.6882 - auc: 0.7864 - val_loss: 0.5176 - val_accuracy: 0.7353 - val_f1_score: 0.7006 - val_auc: 0.8252\n",
      "Epoch 6/25\n",
      "82/82 [==============================] - 51s 620ms/step - loss: 0.5369 - accuracy: 0.7190 - f1_score: 0.7134 - auc: 0.8069 - val_loss: 0.4990 - val_accuracy: 0.7500 - val_f1_score: 0.7216 - val_auc: 0.8367\n",
      "Epoch 7/25\n",
      "82/82 [==============================] - 51s 622ms/step - loss: 0.5343 - accuracy: 0.7399 - f1_score: 0.7290 - auc: 0.8100 - val_loss: 0.5053 - val_accuracy: 0.7549 - val_f1_score: 0.7418 - val_auc: 0.8476\n",
      "Epoch 8/25\n",
      "82/82 [==============================] - 51s 620ms/step - loss: 0.5239 - accuracy: 0.7472 - f1_score: 0.7362 - auc: 0.8206 - val_loss: 0.6461 - val_accuracy: 0.6471 - val_f1_score: 0.6538 - val_auc: 0.6899\n",
      "Epoch 9/25\n",
      "82/82 [==============================] - 51s 624ms/step - loss: 0.5002 - accuracy: 0.7472 - f1_score: 0.7427 - auc: 0.8342 - val_loss: 0.4920 - val_accuracy: 0.7500 - val_f1_score: 0.7243 - val_auc: 0.8386\n",
      "Epoch 10/25\n",
      "82/82 [==============================] - 51s 625ms/step - loss: 0.5259 - accuracy: 0.7436 - f1_score: 0.7357 - auc: 0.8283 - val_loss: 0.4926 - val_accuracy: 0.7255 - val_f1_score: 0.7343 - val_auc: 0.8437\n",
      "Epoch 11/25\n",
      "82/82 [==============================] - 51s 622ms/step - loss: 0.4729 - accuracy: 0.7656 - f1_score: 0.7626 - auc: 0.8528 - val_loss: 0.4623 - val_accuracy: 0.7892 - val_f1_score: 0.7736 - val_auc: 0.8610\n",
      "Epoch 12/25\n",
      "82/82 [==============================] - 51s 623ms/step - loss: 0.4813 - accuracy: 0.7558 - f1_score: 0.7506 - auc: 0.8463 - val_loss: 0.4641 - val_accuracy: 0.7500 - val_f1_score: 0.7578 - val_auc: 0.8581\n",
      "Epoch 13/25\n",
      "82/82 [==============================] - 51s 621ms/step - loss: 0.4695 - accuracy: 0.7730 - f1_score: 0.7693 - auc: 0.8586 - val_loss: 0.4527 - val_accuracy: 0.7647 - val_f1_score: 0.7657 - val_auc: 0.8854\n",
      "Epoch 14/25\n",
      "82/82 [==============================] - 51s 626ms/step - loss: 0.4373 - accuracy: 0.7853 - f1_score: 0.7825 - auc: 0.8786 - val_loss: 0.4366 - val_accuracy: 0.7941 - val_f1_score: 0.7696 - val_auc: 0.8774\n",
      "Epoch 15/25\n",
      "82/82 [==============================] - 51s 624ms/step - loss: 0.4768 - accuracy: 0.7804 - f1_score: 0.7739 - auc: 0.8535 - val_loss: 0.4216 - val_accuracy: 0.7843 - val_f1_score: 0.7833 - val_auc: 0.8861\n",
      "Epoch 16/25\n",
      "82/82 [==============================] - 51s 622ms/step - loss: 0.4104 - accuracy: 0.8270 - f1_score: 0.8255 - auc: 0.9007 - val_loss: 0.4161 - val_accuracy: 0.7843 - val_f1_score: 0.7823 - val_auc: 0.8973\n",
      "Epoch 17/25\n",
      "82/82 [==============================] - 51s 622ms/step - loss: 0.4100 - accuracy: 0.8160 - f1_score: 0.8145 - auc: 0.9000 - val_loss: 0.4146 - val_accuracy: 0.7941 - val_f1_score: 0.7696 - val_auc: 0.8904\n",
      "Epoch 18/25\n",
      "82/82 [==============================] - 51s 623ms/step - loss: 0.4169 - accuracy: 0.8233 - f1_score: 0.8197 - auc: 0.8934 - val_loss: 0.4094 - val_accuracy: 0.8186 - val_f1_score: 0.8052 - val_auc: 0.9147\n",
      "Epoch 19/25\n",
      "82/82 [==============================] - 51s 623ms/step - loss: 0.4328 - accuracy: 0.7988 - f1_score: 0.7951 - auc: 0.8834 - val_loss: 0.4797 - val_accuracy: 0.7549 - val_f1_score: 0.7642 - val_auc: 0.8494\n",
      "Epoch 20/25\n",
      "82/82 [==============================] - 51s 621ms/step - loss: 0.4172 - accuracy: 0.8000 - f1_score: 0.7967 - auc: 0.8897 - val_loss: 0.4023 - val_accuracy: 0.8039 - val_f1_score: 0.7827 - val_auc: 0.9001\n",
      "Epoch 21/25\n",
      "82/82 [==============================] - 51s 621ms/step - loss: 0.3718 - accuracy: 0.8393 - f1_score: 0.8368 - auc: 0.9184 - val_loss: 0.4543 - val_accuracy: 0.7696 - val_f1_score: 0.7783 - val_auc: 0.8656\n",
      "Epoch 22/25\n",
      "82/82 [==============================] - 51s 621ms/step - loss: 0.3684 - accuracy: 0.8356 - f1_score: 0.8341 - auc: 0.9186 - val_loss: 0.3576 - val_accuracy: 0.8333 - val_f1_score: 0.8359 - val_auc: 0.9246\n",
      "Epoch 23/25\n",
      "82/82 [==============================] - 51s 622ms/step - loss: 0.3789 - accuracy: 0.8294 - f1_score: 0.8265 - auc: 0.9120 - val_loss: 0.3549 - val_accuracy: 0.8235 - val_f1_score: 0.8127 - val_auc: 0.9241\n",
      "Epoch 24/25\n",
      "82/82 [==============================] - 51s 622ms/step - loss: 0.3338 - accuracy: 0.8638 - f1_score: 0.8628 - auc: 0.9365 - val_loss: 0.3568 - val_accuracy: 0.8186 - val_f1_score: 0.8110 - val_auc: 0.9206\n",
      "Epoch 25/25\n",
      "82/82 [==============================] - 51s 625ms/step - loss: 0.3254 - accuracy: 0.8601 - f1_score: 0.8589 - auc: 0.9391 - val_loss: 0.3655 - val_accuracy: 0.8333 - val_f1_score: 0.8153 - val_auc: 0.9179\n"
     ]
    },
    {
     "name": "stderr",
     "output_type": "stream",
     "text": [
      "100%|██████████| 2/2 [16:42:25<00:00, 30072.77s/it]   \n"
     ]
    }
   ],
   "source": [
    "histories = []\n",
    "models_ = [\n",
    "    models.unet(input_shape=(img_size, img_size, 3)), \n",
    "    models.vgg5_block(input_shape=(img_size, img_size, 3)),\n",
    "    #models.vgg16(input_shape=(img_size, img_size, 3)), \n",
    "    #models.vgg19(input_shape=(img_size, img_size, 3)),\n",
    "    #models.resnet50(input_shape=(img_size, img_size, 3)), \n",
    "    #models.deeplabv3plus(input_shape=(img_size, img_size, 3)),\n",
    "    #models.nasnet_mobile(input_shape=(img_size, img_size, 3)), \n",
    "    #models.inception_resnetv2(input_shape=(img_size, img_size, 3)), \n",
    "    #models.double_unet(input_shape=(img_size, img_size, 3)),\n",
    "]\n",
    "\n",
    "for model in tqdm(models_):\n",
    "    print(model.name)\n",
    "    history =model.fit(train_x, train_y, batch_size=10,\n",
    "                    validation_split=0.2,\n",
    "                    epochs=25, \n",
    "                    #callbacks = tf.keras.callbacks.EarlyStopping(monitor='val_loss',patience=2,),\n",
    "                    verbose = 1)\n",
    "    histories.append(history)\n",
    "    MODEL_NAME = f\"{date}_{model.name}_{img_size}_{task}\"\n",
    "    save_logs(history, MODEL_NAME)\n",
    "        #save m-odel\n",
    "    tf.keras.models.save_model(\n",
    "        model,\n",
    "        f'./models/{task}/{MODEL_NAME}.h5')\n",
    "           "
   ]
  },
  {
   "cell_type": "code",
   "execution_count": null,
   "id": "e2bbd9b2",
   "metadata": {},
   "outputs": [],
   "source": []
  }
 ],
 "metadata": {
  "kernelspec": {
   "display_name": "Python 3 (ipykernel)",
   "language": "python",
   "name": "python3"
  },
  "language_info": {
   "codemirror_mode": {
    "name": "ipython",
    "version": 3
   },
   "file_extension": ".py",
   "mimetype": "text/x-python",
   "name": "python",
   "nbconvert_exporter": "python",
   "pygments_lexer": "ipython3",
   "version": "3.9.7"
  }
 },
 "nbformat": 4,
 "nbformat_minor": 5
}
