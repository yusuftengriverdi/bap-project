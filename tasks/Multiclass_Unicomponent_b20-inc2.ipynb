{
 "cells": [
  {
   "cell_type": "code",
   "execution_count": 1,
   "id": "b68e7421",
   "metadata": {
    "scrolled": false
   },
   "outputs": [],
   "source": [
    "# !pip install -r requirements.txt\n",
    "## Base of notebooks\n",
    "%load_ext autoreload\n",
    "%autoreload 2\n",
    "import tensorflow as tf"
   ]
  },
  {
   "cell_type": "code",
   "execution_count": 2,
   "id": "15a5ec81",
   "metadata": {},
   "outputs": [],
   "source": [
    "from datetime import datetime\n",
    "\n",
    "now = datetime.now() # current date and time\n",
    "date = now.strftime(\"%Y-%m-%d\")\n",
    "img_size = 128\n",
    "task  = 'multiclass-b20mg-inc2'"
   ]
  },
  {
   "cell_type": "code",
   "execution_count": 3,
   "id": "afae7156",
   "metadata": {},
   "outputs": [],
   "source": [
    "import sys \n",
    "sys.path.append('..')\n",
    "\n",
    "from utils import *\n",
    "import models"
   ]
  },
  {
   "cell_type": "code",
   "execution_count": 4,
   "id": "d104964f",
   "metadata": {},
   "outputs": [
    {
     "name": "stderr",
     "output_type": "stream",
     "text": [
      "100%|██████████| 51/51 [00:05<00:00,  9.14it/s]\n",
      "100%|██████████| 49/49 [00:05<00:00,  8.63it/s]\n",
      "100%|██████████| 100/100 [00:14<00:00,  6.94it/s]\n",
      "100%|██████████| 161/161 [00:24<00:00,  6.50it/s]\n",
      "100%|██████████| 153/153 [00:24<00:00,  6.16it/s]\n",
      "100%|██████████| 43/43 [00:06<00:00,  6.50it/s]\n"
     ]
    },
    {
     "name": "stdout",
     "output_type": "stream",
     "text": [
      "Al for 5 Cannot found!\n"
     ]
    },
    {
     "name": "stderr",
     "output_type": "stream",
     "text": [
      "100%|██████████| 16/16 [00:02<00:00,  7.02it/s]\n",
      "100%|██████████| 150/150 [00:23<00:00,  6.36it/s]\n",
      "100%|██████████| 136/136 [00:22<00:00,  6.17it/s]\n",
      "100%|██████████| 53/53 [00:08<00:00,  6.57it/s]\n",
      "100%|██████████| 50/50 [00:07<00:00,  6.81it/s]\n",
      "100%|██████████| 97/97 [00:14<00:00,  6.68it/s]\n",
      "100%|██████████| 150/150 [00:23<00:00,  6.44it/s]\n",
      "100%|██████████| 150/150 [00:23<00:00,  6.44it/s]"
     ]
    },
    {
     "name": "stdout",
     "output_type": "stream",
     "text": [
      "Fe2 : 51\n",
      "Fe5 : 49\n",
      "Fe10 : 100\n",
      "Fe20 : 161\n",
      "Fe200 : 153\n",
      "Al2 : 43\n",
      "Al10 : 16\n",
      "Al20 : 150\n",
      "Al200 : 136\n",
      "Pb2 : 53\n",
      "Pb5 : 50\n",
      "Pb10 : 97\n",
      "Pb20 : 150\n",
      "Pb200 : 150\n",
      "dict_keys(['Fe2', 'Fe5', 'Fe10', 'Fe20', 'Fe200', 'Al2', 'Al10', 'Al20', 'Al200', 'Pb2', 'Pb5', 'Pb10', 'Pb20', 'Pb200'])\n"
     ]
    },
    {
     "name": "stderr",
     "output_type": "stream",
     "text": [
      "\n"
     ]
    }
   ],
   "source": [
    "base_data = stack_images(im_size=img_size, directory= \"C:\\\\Users\\\\baran.tanriverdi\\\\Final Data\")"
   ]
  },
  {
   "cell_type": "code",
   "execution_count": 5,
   "id": "bb63944d",
   "metadata": {},
   "outputs": [
    {
     "data": {
      "text/plain": [
       "(49, 128, 128, 3)"
      ]
     },
     "execution_count": 5,
     "metadata": {},
     "output_type": "execute_result"
    }
   ],
   "source": [
    "np.asarray(base_data['Fe5']).shape"
   ]
  },
  {
   "cell_type": "code",
   "execution_count": 6,
   "id": "ff2b940d",
   "metadata": {},
   "outputs": [
    {
     "name": "stdout",
     "output_type": "stream",
     "text": [
      "(361, 128, 128, 3)\n",
      "(209, 128, 128, 3)\n",
      "(300, 128, 128, 3)\n",
      "870 361 209 300\n"
     ]
    },
    {
     "name": "stderr",
     "output_type": "stream",
     "text": [
      "C:\\Users\\baran.tanriverdi\\AppData\\Local\\Temp\\ipykernel_7232\\1896097817.py:43: VisibleDeprecationWarning: Creating an ndarray from ragged nested sequences (which is a list-or-tuple of lists-or-tuples-or ndarrays with different lengths or shapes) is deprecated. If you meant to do this, you must specify 'dtype=object' when creating the ndarray.\n",
      "  data = np.asarray(imlist)\n"
     ]
    },
    {
     "name": "stdout",
     "output_type": "stream",
     "text": [
      "870 870\n",
      "652 218\n"
     ]
    }
   ],
   "source": [
    "# Configyure for current experiment\n",
    "\n",
    "x1 = []\n",
    "for imset in [\n",
    "    base_data['Fe2'],\n",
    "    base_data['Fe5'], \n",
    "    base_data['Fe10'], \n",
    "    base_data['Fe20']]:\n",
    "    for im in imset:\n",
    "        x1.append(im)\n",
    "print(np.asarray(x1).shape)\n",
    "\n",
    "x2 = []\n",
    "for imset in [\n",
    "    base_data['Al2'],\n",
    "    base_data['Al10'], \n",
    "    base_data['Al20'], \n",
    "]:\n",
    "    for im in imset:\n",
    "        x2.append(im)\n",
    "print(np.asarray(x2).shape)\n",
    "        \n",
    "x3 = []\n",
    "for imset in [\n",
    "    base_data['Pb2'],\n",
    "    base_data['Pb10'], \n",
    "    base_data['Pb20']]:\n",
    "    for im in imset:\n",
    "        x3.append(im)\n",
    "print(np.asarray(x3).shape)\n",
    "\n",
    "imlist = []\n",
    "one_hot_vector = np.eye(3)\n",
    "for x in x1:\n",
    "    imlist.append([x, one_hot_vector[0]])\n",
    "for x in x2:\n",
    "    imlist.append([x, one_hot_vector[1]])  \n",
    "for x in x3:\n",
    "    imlist.append([x, one_hot_vector[2]]) \n",
    "    \n",
    "print(len(imlist), len(x1), len(x2), len(x3))\n",
    "\n",
    "data = np.asarray(imlist)\n",
    "\n",
    "np.random.shuffle(data)\n",
    "\n",
    "x = np.asarray([i[0] / 255.0 for i in data])\n",
    "y = np.asarray([i[1] for i in data])\n",
    "\n",
    "print(len(x), len(y))\n",
    "boundary = int(len(x) * 0.75)\n",
    "\n",
    "train_x = x[:boundary]\n",
    "train_y = y[:boundary]\n",
    "test_x = x[boundary:]\n",
    "test_y = y[boundary:]\n",
    "\n",
    "print(len(train_x), len(test_x))"
   ]
  },
  {
   "cell_type": "code",
   "execution_count": 8,
   "id": "cfb962c1",
   "metadata": {},
   "outputs": [
    {
     "name": "stdout",
     "output_type": "stream",
     "text": [
      "<keras.engine.functional.Functional object at 0x0000018E148312B0>\n",
      "Model: \"vgg5_block\"\n",
      "_________________________________________________________________\n",
      " Layer (type)                Output Shape              Param #   \n",
      "=================================================================\n",
      " conv2d_34 (Conv2D)          (None, 128, 128, 32)      896       \n",
      "                                                                 \n",
      " conv2d_35 (Conv2D)          (None, 128, 128, 32)      9248      \n",
      "                                                                 \n",
      " max_pooling2d_6 (MaxPooling  (None, 64, 64, 32)       0         \n",
      " 2D)                                                             \n",
      "                                                                 \n",
      " conv2d_36 (Conv2D)          (None, 64, 64, 64)        18496     \n",
      "                                                                 \n",
      " conv2d_37 (Conv2D)          (None, 64, 64, 64)        36928     \n",
      "                                                                 \n",
      " max_pooling2d_7 (MaxPooling  (None, 32, 32, 64)       0         \n",
      " 2D)                                                             \n",
      "                                                                 \n",
      " conv2d_38 (Conv2D)          (None, 32, 32, 128)       73856     \n",
      "                                                                 \n",
      " conv2d_39 (Conv2D)          (None, 32, 32, 128)       147584    \n",
      "                                                                 \n",
      " max_pooling2d_8 (MaxPooling  (None, 16, 16, 128)      0         \n",
      " 2D)                                                             \n",
      "                                                                 \n",
      " conv2d_40 (Conv2D)          (None, 16, 16, 256)       295168    \n",
      "                                                                 \n",
      " conv2d_41 (Conv2D)          (None, 16, 16, 256)       590080    \n",
      "                                                                 \n",
      " max_pooling2d_9 (MaxPooling  (None, 8, 8, 256)        0         \n",
      " 2D)                                                             \n",
      "                                                                 \n",
      " conv2d_42 (Conv2D)          (None, 8, 8, 1024)        2360320   \n",
      "                                                                 \n",
      " conv2d_43 (Conv2D)          (None, 8, 8, 1024)        9438208   \n",
      "                                                                 \n",
      " max_pooling2d_10 (MaxPoolin  (None, 4, 4, 1024)       0         \n",
      " g2D)                                                            \n",
      "                                                                 \n",
      " flatten (Flatten)           (None, 16384)             0         \n",
      "                                                                 \n",
      " dense_6 (Dense)             (None, 256)               4194560   \n",
      "                                                                 \n",
      " dropout_4 (Dropout)         (None, 256)               0         \n",
      "                                                                 \n",
      " dense_7 (Dense)             (None, 32)                8224      \n",
      "                                                                 \n",
      " dropout_5 (Dropout)         (None, 32)                0         \n",
      "                                                                 \n",
      " dense_8 (Dense)             (None, 3)                 99        \n",
      "                                                                 \n",
      "=================================================================\n",
      "Total params: 17,173,667\n",
      "Trainable params: 17,173,667\n",
      "Non-trainable params: 0\n",
      "_________________________________________________________________\n",
      "None\n"
     ]
    },
    {
     "name": "stderr",
     "output_type": "stream",
     "text": [
      "\r",
      "  0%|          | 0/2 [00:00<?, ?it/s]"
     ]
    },
    {
     "name": "stdout",
     "output_type": "stream",
     "text": [
      "2022-04-07_unet_128_multiclass-b20mg-inc2\n",
      "Epoch 1/25\n",
      "53/53 [==============================] - 2695s 50s/step - loss: 324.2210 - accuracy: 0.4664 - f1_score: 0.2584 - cohen_kappa: 0.1767 - MatthewsCorrelationCoefficient: 0.1782 - auc: 0.6146 - val_loss: 0.9227 - val_accuracy: 0.5496 - val_f1_score: 0.2554 - val_cohen_kappa: 0.3095 - val_MatthewsCorrelationCoefficient: 0.3145 - val_auc: 0.7728\n",
      "Epoch 2/25\n",
      "53/53 [==============================] - 2631s 50s/step - loss: 1.2443 - accuracy: 0.5374 - f1_score: 0.4253 - cohen_kappa: 0.2761 - MatthewsCorrelationCoefficient: 0.2777 - auc: 0.7092 - val_loss: 1.0370 - val_accuracy: 0.4656 - val_f1_score: 0.2671 - val_cohen_kappa: 0.2355 - val_MatthewsCorrelationCoefficient: 0.2766 - val_auc: 0.6652\n",
      "Epoch 3/25\n",
      "53/53 [==============================] - 2644s 50s/step - loss: 0.9929 - accuracy: 0.5585 - f1_score: 0.4014 - cohen_kappa: 0.3150 - MatthewsCorrelationCoefficient: 0.3163 - auc: 0.7358 - val_loss: 0.9124 - val_accuracy: 0.5725 - val_f1_score: 0.2792 - val_cohen_kappa: 0.3209 - val_MatthewsCorrelationCoefficient: 0.3502 - val_auc: 0.7504\n",
      "Epoch 4/25\n",
      "53/53 [==============================] - 2622s 50s/step - loss: 0.9014 - accuracy: 0.5681 - f1_score: 0.4128 - cohen_kappa: 0.3216 - MatthewsCorrelationCoefficient: 0.3250 - auc: 0.7665 - val_loss: 0.8576 - val_accuracy: 0.5573 - val_f1_score: 0.2872 - val_cohen_kappa: 0.2969 - val_MatthewsCorrelationCoefficient: 0.3240 - val_auc: 0.7775\n",
      "Epoch 5/25\n",
      "53/53 [==============================] - 2637s 50s/step - loss: 0.8952 - accuracy: 0.5547 - f1_score: 0.4413 - cohen_kappa: 0.2987 - MatthewsCorrelationCoefficient: 0.3020 - auc: 0.7712 - val_loss: 1.1695 - val_accuracy: 0.5725 - val_f1_score: 0.3175 - val_cohen_kappa: 0.3257 - val_MatthewsCorrelationCoefficient: 0.3693 - val_auc: 0.7439\n",
      "Epoch 6/25\n",
      "53/53 [==============================] - 2644s 50s/step - loss: 0.8603 - accuracy: 0.6065 - f1_score: 0.4492 - cohen_kappa: 0.3771 - MatthewsCorrelationCoefficient: 0.3836 - auc: 0.7935 - val_loss: 0.8219 - val_accuracy: 0.5420 - val_f1_score: 0.3098 - val_cohen_kappa: 0.2928 - val_MatthewsCorrelationCoefficient: 0.2958 - val_auc: 0.7848\n",
      "Epoch 7/25\n",
      "53/53 [==============================] - 2613s 49s/step - loss: 0.8639 - accuracy: 0.6027 - f1_score: 0.4379 - cohen_kappa: 0.3763 - MatthewsCorrelationCoefficient: 0.3793 - auc: 0.8003 - val_loss: 1.1673 - val_accuracy: 0.5802 - val_f1_score: 0.3250 - val_cohen_kappa: 0.3348 - val_MatthewsCorrelationCoefficient: 0.3660 - val_auc: 0.7669\n",
      "Epoch 8/25\n",
      "53/53 [==============================] - 2629s 50s/step - loss: 0.8927 - accuracy: 0.6123 - f1_score: 0.4874 - cohen_kappa: 0.3939 - MatthewsCorrelationCoefficient: 0.3964 - auc: 0.8028 - val_loss: 0.7962 - val_accuracy: 0.5878 - val_f1_score: 0.3113 - val_cohen_kappa: 0.3611 - val_MatthewsCorrelationCoefficient: 0.3670 - val_auc: 0.7914\n",
      "Epoch 9/25\n",
      "53/53 [==============================] - 2615s 49s/step - loss: 1.3254 - accuracy: 0.6142 - f1_score: 0.5080 - cohen_kappa: 0.3924 - MatthewsCorrelationCoefficient: 0.3967 - auc: 0.8063 - val_loss: 0.8001 - val_accuracy: 0.5878 - val_f1_score: 0.4295 - val_cohen_kappa: 0.3435 - val_MatthewsCorrelationCoefficient: 0.3779 - val_auc: 0.7945\n",
      "Epoch 10/25\n",
      "53/53 [==============================] - 2615s 49s/step - loss: 1.5454 - accuracy: 0.5720 - f1_score: 0.4858 - cohen_kappa: 0.3231 - MatthewsCorrelationCoefficient: 0.3286 - auc: 0.7458 - val_loss: 0.8834 - val_accuracy: 0.5267 - val_f1_score: 0.3814 - val_cohen_kappa: 0.3113 - val_MatthewsCorrelationCoefficient: 0.3356 - val_auc: 0.7397\n",
      "Epoch 11/25\n",
      "53/53 [==============================] - 2617s 49s/step - loss: 0.9629 - accuracy: 0.5854 - f1_score: 0.4274 - cohen_kappa: 0.3504 - MatthewsCorrelationCoefficient: 0.3541 - auc: 0.7735 - val_loss: 0.7996 - val_accuracy: 0.6107 - val_f1_score: 0.3305 - val_cohen_kappa: 0.3821 - val_MatthewsCorrelationCoefficient: 0.4168 - val_auc: 0.8105\n",
      "Epoch 12/25\n",
      "53/53 [==============================] - 2625s 50s/step - loss: 0.8333 - accuracy: 0.6315 - f1_score: 0.5140 - cohen_kappa: 0.4153 - MatthewsCorrelationCoefficient: 0.4237 - auc: 0.8093 - val_loss: 0.8064 - val_accuracy: 0.6336 - val_f1_score: 0.3766 - val_cohen_kappa: 0.4144 - val_MatthewsCorrelationCoefficient: 0.4644 - val_auc: 0.8236\n",
      "Epoch 13/25\n",
      "53/53 [==============================] - 2609s 49s/step - loss: 1.3771 - accuracy: 0.5489 - f1_score: 0.4000 - cohen_kappa: 0.2942 - MatthewsCorrelationCoefficient: 0.2988 - auc: 0.7064 - val_loss: 0.9272 - val_accuracy: 0.5573 - val_f1_score: 0.2540 - val_cohen_kappa: 0.2995 - val_MatthewsCorrelationCoefficient: 0.3230 - val_auc: 0.7575\n",
      "Epoch 14/25\n",
      "53/53 [==============================] - 2432s 46s/step - loss: 26.7806 - accuracy: 0.5278 - f1_score: 0.3176 - cohen_kappa: 0.2446 - MatthewsCorrelationCoefficient: 0.2536 - auc: 0.7176 - val_loss: 1.1683 - val_accuracy: 0.3435 - val_f1_score: 0.1065 - val_cohen_kappa: 0.0772 - val_MatthewsCorrelationCoefficient: 0.1079 - val_auc: 0.5131\n",
      "Epoch 15/25\n",
      "53/53 [==============================] - 2155s 41s/step - loss: 1.0628 - accuracy: 0.5010 - f1_score: 0.1828 - cohen_kappa: 0.1875 - MatthewsCorrelationCoefficient: 0.2031 - auc: 0.6686 - val_loss: 0.9705 - val_accuracy: 0.5496 - val_f1_score: 0.3344 - val_cohen_kappa: 0.2814 - val_MatthewsCorrelationCoefficient: 0.3115 - val_auc: 0.7395\n",
      "Epoch 16/25\n",
      "53/53 [==============================] - 1814s 34s/step - loss: 1.0320 - accuracy: 0.5509 - f1_score: 0.3407 - cohen_kappa: 0.2748 - MatthewsCorrelationCoefficient: 0.2888 - auc: 0.7087 - val_loss: 0.9512 - val_accuracy: 0.5344 - val_f1_score: 0.2810 - val_cohen_kappa: 0.2560 - val_MatthewsCorrelationCoefficient: 0.2855 - val_auc: 0.7605\n",
      "Epoch 17/25\n",
      "53/53 [==============================] - 1324s 25s/step - loss: 1.1276 - accuracy: 0.5317 - f1_score: 0.3104 - cohen_kappa: 0.2419 - MatthewsCorrelationCoefficient: 0.2558 - auc: 0.6970 - val_loss: 1.0313 - val_accuracy: 0.4962 - val_f1_score: 0.0000e+00 - val_cohen_kappa: 0.1893 - val_MatthewsCorrelationCoefficient: 0.2278 - val_auc: 0.6998\n",
      "Epoch 18/25\n",
      "53/53 [==============================] - 1303s 25s/step - loss: 1.5175 - accuracy: 0.4875 - f1_score: 0.2860 - cohen_kappa: 0.1704 - MatthewsCorrelationCoefficient: 0.1806 - auc: 0.6810 - val_loss: 0.9281 - val_accuracy: 0.5725 - val_f1_score: 0.2572 - val_cohen_kappa: 0.3141 - val_MatthewsCorrelationCoefficient: 0.3634 - val_auc: 0.7665\n",
      "Epoch 19/25\n",
      "53/53 [==============================] - 1303s 25s/step - loss: 0.9198 - accuracy: 0.6008 - f1_score: 0.3974 - cohen_kappa: 0.3561 - MatthewsCorrelationCoefficient: 0.3745 - auc: 0.7812 - val_loss: 1.0892 - val_accuracy: 0.5496 - val_f1_score: 0.2504 - val_cohen_kappa: 0.2867 - val_MatthewsCorrelationCoefficient: 0.3167 - val_auc: 0.7224\n",
      "Epoch 20/25\n",
      "53/53 [==============================] - 1308s 25s/step - loss: 0.9335 - accuracy: 0.5873 - f1_score: 0.4224 - cohen_kappa: 0.3328 - MatthewsCorrelationCoefficient: 0.3542 - auc: 0.7699 - val_loss: 1.0428 - val_accuracy: 0.5725 - val_f1_score: 0.4854 - val_cohen_kappa: 0.3195 - val_MatthewsCorrelationCoefficient: 0.3512 - val_auc: 0.7696\n",
      "Epoch 21/25\n",
      "53/53 [==============================] - 1302s 25s/step - loss: 0.8846 - accuracy: 0.6123 - f1_score: 0.4534 - cohen_kappa: 0.3778 - MatthewsCorrelationCoefficient: 0.3932 - auc: 0.7992 - val_loss: 0.8723 - val_accuracy: 0.5725 - val_f1_score: 0.4649 - val_cohen_kappa: 0.3166 - val_MatthewsCorrelationCoefficient: 0.3542 - val_auc: 0.7812\n",
      "Epoch 22/25\n",
      "53/53 [==============================] - 1294s 24s/step - loss: 0.8724 - accuracy: 0.6219 - f1_score: 0.4888 - cohen_kappa: 0.3935 - MatthewsCorrelationCoefficient: 0.4113 - auc: 0.7878 - val_loss: 85.6420 - val_accuracy: 0.2214 - val_f1_score: 0.1686 - val_cohen_kappa: -0.1375 - val_MatthewsCorrelationCoefficient: -0.1683 - val_auc: 0.4056\n",
      "Epoch 23/25\n",
      "53/53 [==============================] - 1274s 24s/step - loss: 6.1228 - accuracy: 0.4376 - f1_score: 0.3087 - cohen_kappa: 0.0679 - MatthewsCorrelationCoefficient: 0.0888 - auc: 0.5917 - val_loss: 1.1910 - val_accuracy: 0.3511 - val_f1_score: 0.1825 - val_cohen_kappa: 0.0000e+00 - val_MatthewsCorrelationCoefficient: 0.0000e+00 - val_auc: 0.5458\n",
      "Epoch 24/25\n",
      "53/53 [==============================] - 1201s 23s/step - loss: 1.1075 - accuracy: 0.4127 - f1_score: 0.2117 - cohen_kappa: 0.0000e+00 - MatthewsCorrelationCoefficient: 0.0000e+00 - auc: 0.5869 - val_loss: 1.1231 - val_accuracy: 0.3511 - val_f1_score: 0.0000e+00 - val_cohen_kappa: 0.0000e+00 - val_MatthewsCorrelationCoefficient: 0.0000e+00 - val_auc: 0.5458\n",
      "Epoch 25/25\n",
      "53/53 [==============================] - 865s 16s/step - loss: 1.0746 - accuracy: 0.4146 - f1_score: 0.0587 - cohen_kappa: 0.0038 - MatthewsCorrelationCoefficient: 0.0261 - auc: 0.5989 - val_loss: 1.1059 - val_accuracy: 0.3511 - val_f1_score: 0.0000e+00 - val_cohen_kappa: 0.0000e+00 - val_MatthewsCorrelationCoefficient: 0.0000e+00 - val_auc: 0.5458\n"
     ]
    },
    {
     "name": "stderr",
     "output_type": "stream",
     "text": [
      "\r",
      " 50%|█████     | 1/2 [14:23:00<14:23:00, 51780.20s/it]"
     ]
    },
    {
     "name": "stdout",
     "output_type": "stream",
     "text": [
      "2022-04-07_vgg5_block_128_multiclass-b20mg-inc2\n",
      "Epoch 1/25\n",
      "53/53 [==============================] - 66s 1s/step - loss: 1.0749 - accuracy: 0.4395 - f1_score: 0.2631 - auc: 0.6239 - val_loss: 0.9712 - val_accuracy: 0.5267 - val_f1_score: 0.3077 - val_auc: 0.7128\n",
      "Epoch 2/25\n",
      "53/53 [==============================] - 63s 1s/step - loss: 0.9007 - accuracy: 0.5816 - f1_score: 0.4231 - auc: 0.7648 - val_loss: 0.8166 - val_accuracy: 0.6336 - val_f1_score: 0.4972 - val_auc: 0.8234\n",
      "Epoch 3/25\n",
      "53/53 [==============================] - 63s 1s/step - loss: 0.8368 - accuracy: 0.6142 - f1_score: 0.4865 - auc: 0.8005 - val_loss: 0.8570 - val_accuracy: 0.5725 - val_f1_score: 0.3988 - val_auc: 0.7794\n",
      "Epoch 4/25\n",
      "53/53 [==============================] - 64s 1s/step - loss: 0.7513 - accuracy: 0.6660 - f1_score: 0.5655 - auc: 0.8413 - val_loss: 0.7403 - val_accuracy: 0.6947 - val_f1_score: 0.4516 - val_auc: 0.8761\n",
      "Epoch 5/25\n",
      "53/53 [==============================] - 63s 1s/step - loss: 0.7297 - accuracy: 0.6718 - f1_score: 0.5752 - auc: 0.8573 - val_loss: 0.7496 - val_accuracy: 0.6412 - val_f1_score: 0.5251 - val_auc: 0.8398\n",
      "Epoch 6/25\n",
      "53/53 [==============================] - 64s 1s/step - loss: 0.7118 - accuracy: 0.6660 - f1_score: 0.6163 - auc: 0.8578 - val_loss: 0.7551 - val_accuracy: 0.6260 - val_f1_score: 0.4618 - val_auc: 0.8354\n",
      "Epoch 7/25\n",
      "53/53 [==============================] - 64s 1s/step - loss: 0.6732 - accuracy: 0.6641 - f1_score: 0.6258 - auc: 0.8716 - val_loss: 0.7449 - val_accuracy: 0.6794 - val_f1_score: 0.5328 - val_auc: 0.8447\n",
      "Epoch 8/25\n",
      "53/53 [==============================] - 63s 1s/step - loss: 0.6694 - accuracy: 0.6929 - f1_score: 0.6349 - auc: 0.8765 - val_loss: 0.6959 - val_accuracy: 0.6260 - val_f1_score: 0.4918 - val_auc: 0.8520\n",
      "Epoch 9/25\n",
      "53/53 [==============================] - 62s 1s/step - loss: 0.7529 - accuracy: 0.6622 - f1_score: 0.5641 - auc: 0.8388 - val_loss: 0.6880 - val_accuracy: 0.6947 - val_f1_score: 0.5707 - val_auc: 0.8670\n",
      "Epoch 10/25\n",
      "53/53 [==============================] - 64s 1s/step - loss: 0.6451 - accuracy: 0.6948 - f1_score: 0.6416 - auc: 0.8827 - val_loss: 0.6769 - val_accuracy: 0.7099 - val_f1_score: 0.6705 - val_auc: 0.8783\n",
      "Epoch 11/25\n",
      "53/53 [==============================] - 63s 1s/step - loss: 0.5802 - accuracy: 0.7332 - f1_score: 0.6830 - auc: 0.9073 - val_loss: 0.5813 - val_accuracy: 0.7481 - val_f1_score: 0.7177 - val_auc: 0.9074\n",
      "Epoch 12/25\n",
      "53/53 [==============================] - 63s 1s/step - loss: 0.5782 - accuracy: 0.7543 - f1_score: 0.7190 - auc: 0.9072 - val_loss: 0.6410 - val_accuracy: 0.7023 - val_f1_score: 0.6364 - val_auc: 0.8836\n",
      "Epoch 13/25\n",
      "53/53 [==============================] - 63s 1s/step - loss: 0.5638 - accuracy: 0.7697 - f1_score: 0.7438 - auc: 0.9148 - val_loss: 0.5832 - val_accuracy: 0.7328 - val_f1_score: 0.7147 - val_auc: 0.9064\n",
      "Epoch 14/25\n",
      "53/53 [==============================] - 64s 1s/step - loss: 0.5602 - accuracy: 0.7562 - f1_score: 0.7245 - auc: 0.9133 - val_loss: 0.5533 - val_accuracy: 0.7481 - val_f1_score: 0.7424 - val_auc: 0.9200\n",
      "Epoch 15/25\n",
      "53/53 [==============================] - 64s 1s/step - loss: 0.5184 - accuracy: 0.7754 - f1_score: 0.7620 - auc: 0.9279 - val_loss: 0.5276 - val_accuracy: 0.7557 - val_f1_score: 0.7400 - val_auc: 0.9246\n",
      "Epoch 16/25\n",
      "53/53 [==============================] - 63s 1s/step - loss: 0.5356 - accuracy: 0.7774 - f1_score: 0.7610 - auc: 0.9206 - val_loss: 0.5850 - val_accuracy: 0.7328 - val_f1_score: 0.7208 - val_auc: 0.9035\n",
      "Epoch 17/25\n",
      "53/53 [==============================] - 63s 1s/step - loss: 0.5388 - accuracy: 0.7658 - f1_score: 0.7396 - auc: 0.9216 - val_loss: 0.5341 - val_accuracy: 0.7710 - val_f1_score: 0.7682 - val_auc: 0.9223\n",
      "Epoch 18/25\n",
      "53/53 [==============================] - 63s 1s/step - loss: 0.5524 - accuracy: 0.7505 - f1_score: 0.7247 - auc: 0.9148 - val_loss: 0.5175 - val_accuracy: 0.7939 - val_f1_score: 0.7699 - val_auc: 0.9292\n",
      "Epoch 19/25\n",
      "53/53 [==============================] - 61s 1s/step - loss: 0.4791 - accuracy: 0.7735 - f1_score: 0.7652 - auc: 0.9360 - val_loss: 0.5277 - val_accuracy: 0.7710 - val_f1_score: 0.7577 - val_auc: 0.9252\n",
      "Epoch 20/25\n",
      "53/53 [==============================] - 61s 1s/step - loss: 0.5767 - accuracy: 0.7447 - f1_score: 0.7047 - auc: 0.9067 - val_loss: 0.6574 - val_accuracy: 0.6870 - val_f1_score: 0.6693 - val_auc: 0.8812\n",
      "Epoch 21/25\n",
      "53/53 [==============================] - 64s 1s/step - loss: 0.5135 - accuracy: 0.7831 - f1_score: 0.7520 - auc: 0.9281 - val_loss: 0.4958 - val_accuracy: 0.7939 - val_f1_score: 0.7808 - val_auc: 0.9341\n",
      "Epoch 22/25\n",
      "53/53 [==============================] - 64s 1s/step - loss: 0.4845 - accuracy: 0.7716 - f1_score: 0.7578 - auc: 0.9352 - val_loss: 0.5483 - val_accuracy: 0.7176 - val_f1_score: 0.7159 - val_auc: 0.9129\n",
      "Epoch 23/25\n",
      "53/53 [==============================] - 64s 1s/step - loss: 0.4856 - accuracy: 0.8004 - f1_score: 0.7853 - auc: 0.9357 - val_loss: 0.4944 - val_accuracy: 0.7634 - val_f1_score: 0.7656 - val_auc: 0.9307\n",
      "Epoch 24/25\n",
      "53/53 [==============================] - 63s 1s/step - loss: 0.4578 - accuracy: 0.7869 - f1_score: 0.7861 - auc: 0.9404 - val_loss: 0.5986 - val_accuracy: 0.7176 - val_f1_score: 0.7113 - val_auc: 0.8996\n",
      "Epoch 25/25\n",
      "53/53 [==============================] - 63s 1s/step - loss: 0.4829 - accuracy: 0.7850 - f1_score: 0.7674 - auc: 0.9359 - val_loss: 0.8193 - val_accuracy: 0.6260 - val_f1_score: 0.6216 - val_auc: 0.8470\n"
     ]
    },
    {
     "name": "stderr",
     "output_type": "stream",
     "text": [
      "100%|██████████| 2/2 [14:49:25<00:00, 26682.68s/it]   \n"
     ]
    }
   ],
   "source": [
    "histories = []\n",
    "models_ = [\n",
    "    models.unet(input_shape=(img_size, img_size, 3), number_of_classes=3), \n",
    "    models.vgg5_block(input_shape=(img_size, img_size, 3), number_of_classes=3),\n",
    "    #models.vgg16(input_shape=(img_size, img_size, 3), number_of_classes=3), \n",
    "    #models.vgg19(input_shape=(img_size, img_size, 3), number_of_classes=3),\n",
    "    #models.resnet50(input_shape=(img_size, img_size, 3), number_of_classes=3), \n",
    "    #models.deeplabv3plus(input_shape=(img_size, img_size, 3), number_of_classes=3),\n",
    "    #models.nasnet_mobile(input_shape=(img_size, img_size, 3), number_of_classes=3), \n",
    "    #models.inception_resnetv2(input_shape=(img_size, img_size, 3), number_of_classes=3), \n",
    "    #models.double_unet(input_shape=(img_size, img_size, 3), number_of_classes=3)\n",
    "]\n",
    "\n",
    "for model in tqdm(models_):\n",
    "    MODEL_NAME = f\"{date}_{model.name}_{img_size}_{task}\"\n",
    "    print(MODEL_NAME)\n",
    "    history =model.fit(train_x, train_y, batch_size=10,\n",
    "                    validation_split=0.2,\n",
    "                    epochs=25, \n",
    "                    #callbacks = tf.keras.callbacks.EarlyStopping(monitor='val_loss',patience=2,),\n",
    "                    verbose = 1)\n",
    "    histories.append(history)\n",
    "\n",
    "    save_logs(history, MODEL_NAME)\n",
    "        #save m-odel\n",
    "    tf.keras.models.save_model(\n",
    "        model,\n",
    "        f'./models/{task}/{MODEL_NAME}.h5')\n",
    "           "
   ]
  },
  {
   "cell_type": "code",
   "execution_count": null,
   "id": "a23d1f5e",
   "metadata": {},
   "outputs": [],
   "source": []
  }
 ],
 "metadata": {
  "kernelspec": {
   "display_name": "Python 3 (ipykernel)",
   "language": "python",
   "name": "python3"
  },
  "language_info": {
   "codemirror_mode": {
    "name": "ipython",
    "version": 3
   },
   "file_extension": ".py",
   "mimetype": "text/x-python",
   "name": "python",
   "nbconvert_exporter": "python",
   "pygments_lexer": "ipython3",
   "version": "3.9.7"
  }
 },
 "nbformat": 4,
 "nbformat_minor": 5
}
