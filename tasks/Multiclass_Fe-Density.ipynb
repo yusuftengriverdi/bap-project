{
 "cells": [
  {
   "cell_type": "code",
   "execution_count": 1,
   "id": "b68e7421",
   "metadata": {
    "scrolled": false
   },
   "outputs": [],
   "source": [
    "# !pip install -r requirements.txt\n",
    "## Base of notebooks\n",
    "%load_ext autoreload\n",
    "%autoreload 2\n",
    "import tensorflow as tf"
   ]
  },
  {
   "cell_type": "code",
   "execution_count": 2,
   "id": "15a5ec81",
   "metadata": {},
   "outputs": [],
   "source": [
    "from datetime import datetime\n",
    "\n",
    "now = datetime.now() # current date and time\n",
    "date = now.strftime(\"%Y-%m-%d\")\n",
    "img_size = 128\n",
    "task  = 'multiclass-fe-density'"
   ]
  },
  {
   "cell_type": "code",
   "execution_count": 3,
   "id": "afae7156",
   "metadata": {},
   "outputs": [],
   "source": [
    "import sys \n",
    "sys.path.append('..')\n",
    "\n",
    "from utils import *\n",
    "import models"
   ]
  },
  {
   "cell_type": "code",
   "execution_count": 4,
   "id": "d104964f",
   "metadata": {},
   "outputs": [
    {
     "name": "stderr",
     "output_type": "stream",
     "text": [
      "100%|██████████| 51/51 [00:05<00:00,  8.90it/s]\n",
      "100%|██████████| 49/49 [00:05<00:00,  8.71it/s]\n",
      "100%|██████████| 100/100 [00:11<00:00,  8.38it/s]\n",
      "100%|██████████| 161/161 [00:23<00:00,  6.95it/s]\n",
      "100%|██████████| 153/153 [00:24<00:00,  6.20it/s]\n",
      "100%|██████████| 43/43 [00:06<00:00,  6.68it/s]\n"
     ]
    },
    {
     "name": "stdout",
     "output_type": "stream",
     "text": [
      "Al for 5 Cannot found!\n"
     ]
    },
    {
     "name": "stderr",
     "output_type": "stream",
     "text": [
      "100%|██████████| 16/16 [00:02<00:00,  6.97it/s]\n",
      "100%|██████████| 150/150 [00:23<00:00,  6.41it/s]\n",
      "100%|██████████| 136/136 [00:21<00:00,  6.20it/s]\n",
      "100%|██████████| 53/53 [00:07<00:00,  6.79it/s]\n",
      "100%|██████████| 50/50 [00:07<00:00,  6.92it/s]\n",
      "100%|██████████| 97/97 [00:14<00:00,  6.77it/s]\n",
      "100%|██████████| 150/150 [00:23<00:00,  6.47it/s]\n",
      "100%|██████████| 150/150 [00:23<00:00,  6.39it/s]"
     ]
    },
    {
     "name": "stdout",
     "output_type": "stream",
     "text": [
      "Fe2 : 51\n",
      "Fe5 : 49\n",
      "Fe10 : 100\n",
      "Fe20 : 161\n",
      "Fe200 : 153\n",
      "Al2 : 43\n",
      "Al10 : 16\n",
      "Al20 : 150\n",
      "Al200 : 136\n",
      "Pb2 : 53\n",
      "Pb5 : 50\n",
      "Pb10 : 97\n",
      "Pb20 : 150\n",
      "Pb200 : 150\n",
      "dict_keys(['Fe2', 'Fe5', 'Fe10', 'Fe20', 'Fe200', 'Al2', 'Al10', 'Al20', 'Al200', 'Pb2', 'Pb5', 'Pb10', 'Pb20', 'Pb200'])\n"
     ]
    },
    {
     "name": "stderr",
     "output_type": "stream",
     "text": [
      "\n"
     ]
    }
   ],
   "source": [
    "base_data = stack_images(im_size=img_size, directory= \"C:\\\\Users\\\\baran.tanriverdi\\\\Final Data\")"
   ]
  },
  {
   "cell_type": "code",
   "execution_count": 5,
   "id": "ff2b940d",
   "metadata": {},
   "outputs": [
    {
     "name": "stdout",
     "output_type": "stream",
     "text": [
      "(51, 128, 128, 3)\n",
      "(310, 128, 128, 3)\n",
      "(153, 128, 128, 3)\n",
      "514 51 310 153\n"
     ]
    },
    {
     "name": "stderr",
     "output_type": "stream",
     "text": [
      "C:\\Users\\baran.tanriverdi\\AppData\\Local\\Temp\\ipykernel_10516\\1989514631.py:40: VisibleDeprecationWarning: Creating an ndarray from ragged nested sequences (which is a list-or-tuple of lists-or-tuples-or ndarrays with different lengths or shapes) is deprecated. If you meant to do this, you must specify 'dtype=object' when creating the ndarray.\n",
      "  data = np.asarray(imlist)\n"
     ]
    },
    {
     "name": "stdout",
     "output_type": "stream",
     "text": [
      "514 514\n",
      "385 129\n"
     ]
    }
   ],
   "source": [
    "# Configyure for current experiment\n",
    "\n",
    "x1 = []\n",
    "for imset in [\n",
    "    base_data['Fe2']\n",
    "]:\n",
    "    for im in imset:\n",
    "        x1.append(im)\n",
    "print(np.asarray(x1).shape)\n",
    "\n",
    "x2 = []\n",
    "for imset in [\n",
    "    base_data['Fe5'], \n",
    "    base_data['Fe10'], \n",
    "    base_data['Fe20']\n",
    "]:\n",
    "    for im in imset:\n",
    "        x2.append(im)\n",
    "print(np.asarray(x2).shape)\n",
    "        \n",
    "x3 = []\n",
    "for imset in [\n",
    "    base_data['Fe200']\n",
    "]:\n",
    "    for im in imset:\n",
    "        x3.append(im)\n",
    "print(np.asarray(x3).shape)\n",
    "\n",
    "imlist = []\n",
    "one_hot_vector = np.eye(3)\n",
    "for x in x1:\n",
    "    imlist.append([x, one_hot_vector[0]])\n",
    "for x in x2:\n",
    "    imlist.append([x, one_hot_vector[1]])  \n",
    "for x in x3:\n",
    "    imlist.append([x, one_hot_vector[2]]) \n",
    "    \n",
    "print(len(imlist), len(x1), len(x2), len(x3))\n",
    "\n",
    "data = np.asarray(imlist)\n",
    "\n",
    "np.random.shuffle(data)\n",
    "\n",
    "x = np.asarray([i[0] / 255.0 for i in data])\n",
    "y = np.asarray([i[1] for i in data])\n",
    "\n",
    "print(len(x), len(y))\n",
    "boundary = int(len(x) * 0.75)\n",
    "\n",
    "train_x = x[:boundary]\n",
    "train_y = y[:boundary]\n",
    "test_x = x[boundary:]\n",
    "test_y = y[boundary:]\n",
    "\n",
    "print(len(train_x), len(test_x))"
   ]
  },
  {
   "cell_type": "code",
   "execution_count": 9,
   "id": "cfb962c1",
   "metadata": {},
   "outputs": [
    {
     "name": "stdout",
     "output_type": "stream",
     "text": [
      "<keras.engine.functional.Functional object at 0x0000020F8F3D04C0>\n",
      "Model: \"vgg5_block\"\n",
      "_________________________________________________________________\n",
      " Layer (type)                Output Shape              Param #   \n",
      "=================================================================\n",
      " conv2d_68 (Conv2D)          (None, 128, 128, 32)      896       \n",
      "                                                                 \n",
      " conv2d_69 (Conv2D)          (None, 128, 128, 32)      9248      \n",
      "                                                                 \n",
      " max_pooling2d_12 (MaxPoolin  (None, 64, 64, 32)       0         \n",
      " g2D)                                                            \n",
      "                                                                 \n",
      " conv2d_70 (Conv2D)          (None, 64, 64, 64)        18496     \n",
      "                                                                 \n",
      " conv2d_71 (Conv2D)          (None, 64, 64, 64)        36928     \n",
      "                                                                 \n",
      " max_pooling2d_13 (MaxPoolin  (None, 32, 32, 64)       0         \n",
      " g2D)                                                            \n",
      "                                                                 \n",
      " conv2d_72 (Conv2D)          (None, 32, 32, 128)       73856     \n",
      "                                                                 \n",
      " conv2d_73 (Conv2D)          (None, 32, 32, 128)       147584    \n",
      "                                                                 \n",
      " max_pooling2d_14 (MaxPoolin  (None, 16, 16, 128)      0         \n",
      " g2D)                                                            \n",
      "                                                                 \n",
      " conv2d_74 (Conv2D)          (None, 16, 16, 256)       295168    \n",
      "                                                                 \n",
      " conv2d_75 (Conv2D)          (None, 16, 16, 256)       590080    \n",
      "                                                                 \n",
      " max_pooling2d_15 (MaxPoolin  (None, 8, 8, 256)        0         \n",
      " g2D)                                                            \n",
      "                                                                 \n",
      " conv2d_76 (Conv2D)          (None, 8, 8, 1024)        2360320   \n",
      "                                                                 \n",
      " conv2d_77 (Conv2D)          (None, 8, 8, 1024)        9438208   \n",
      "                                                                 \n",
      " max_pooling2d_16 (MaxPoolin  (None, 4, 4, 1024)       0         \n",
      " g2D)                                                            \n",
      "                                                                 \n",
      " flatten (Flatten)           (None, 16384)             0         \n",
      "                                                                 \n",
      " dense_12 (Dense)            (None, 256)               4194560   \n",
      "                                                                 \n",
      " dropout_8 (Dropout)         (None, 256)               0         \n",
      "                                                                 \n",
      " dense_13 (Dense)            (None, 32)                8224      \n",
      "                                                                 \n",
      " dropout_9 (Dropout)         (None, 32)                0         \n",
      "                                                                 \n",
      " dense_14 (Dense)            (None, 3)                 99        \n",
      "                                                                 \n",
      "=================================================================\n",
      "Total params: 17,173,667\n",
      "Trainable params: 17,173,667\n",
      "Non-trainable params: 0\n",
      "_________________________________________________________________\n",
      "None\n"
     ]
    },
    {
     "name": "stderr",
     "output_type": "stream",
     "text": [
      "\r",
      "  0%|          | 0/2 [00:00<?, ?it/s]"
     ]
    },
    {
     "name": "stdout",
     "output_type": "stream",
     "text": [
      "2022-04-07_unet_128_multiclass-fe-density\n",
      "Epoch 1/25\n",
      "31/31 [==============================] - 1394s 46s/step - loss: 338.3005 - accuracy: 0.5032 - f1_score: 0.4598 - cohen_kappa: 0.1337 - MatthewsCorrelationCoefficient: 0.1347 - auc: 0.6531 - val_loss: 0.9149 - val_accuracy: 0.7273 - val_f1_score: 0.3145 - val_cohen_kappa: 0.1923 - val_MatthewsCorrelationCoefficient: 0.2166 - val_auc: 0.8320\n",
      "Epoch 2/25\n",
      "31/31 [==============================] - 1544s 50s/step - loss: 1.2627 - accuracy: 0.5584 - f1_score: 0.3902 - cohen_kappa: 0.1834 - MatthewsCorrelationCoefficient: 0.1841 - auc: 0.7102 - val_loss: 0.8033 - val_accuracy: 0.7403 - val_f1_score: 0.5939 - val_cohen_kappa: 0.2115 - val_MatthewsCorrelationCoefficient: 0.2462 - val_auc: 0.8486\n",
      "Epoch 3/25\n",
      "31/31 [==============================] - 1564s 51s/step - loss: 0.8686 - accuracy: 0.6429 - f1_score: 0.5213 - cohen_kappa: 0.3125 - MatthewsCorrelationCoefficient: 0.3184 - auc: 0.8142 - val_loss: 0.7974 - val_accuracy: 0.6494 - val_f1_score: 0.5962 - val_cohen_kappa: 0.2556 - val_MatthewsCorrelationCoefficient: 0.2700 - val_auc: 0.8312\n",
      "Epoch 4/25\n",
      "31/31 [==============================] - 1566s 51s/step - loss: 0.7848 - accuracy: 0.6851 - f1_score: 0.6155 - cohen_kappa: 0.4179 - MatthewsCorrelationCoefficient: 0.4200 - auc: 0.8453 - val_loss: 0.6424 - val_accuracy: 0.7532 - val_f1_score: 0.6672 - val_cohen_kappa: 0.3102 - val_MatthewsCorrelationCoefficient: 0.3300 - val_auc: 0.8878\n",
      "Epoch 5/25\n",
      "31/31 [==============================] - 1564s 51s/step - loss: 1.2336 - accuracy: 0.6786 - f1_score: 0.5900 - cohen_kappa: 0.4176 - MatthewsCorrelationCoefficient: 0.4214 - auc: 0.8070 - val_loss: 0.7833 - val_accuracy: 0.7792 - val_f1_score: 0.7268 - val_cohen_kappa: 0.3574 - val_MatthewsCorrelationCoefficient: 0.3940 - val_auc: 0.8808\n",
      "Epoch 6/25\n",
      "31/31 [==============================] - 1554s 50s/step - loss: 0.6686 - accuracy: 0.7370 - f1_score: 0.6893 - cohen_kappa: 0.5005 - MatthewsCorrelationCoefficient: 0.5064 - auc: 0.8892 - val_loss: 0.5584 - val_accuracy: 0.7662 - val_f1_score: 0.7218 - val_cohen_kappa: 0.3487 - val_MatthewsCorrelationCoefficient: 0.3696 - val_auc: 0.9160\n",
      "Epoch 7/25\n",
      "31/31 [==============================] - 1555s 50s/step - loss: 0.7790 - accuracy: 0.7500 - f1_score: 0.7327 - cohen_kappa: 0.5333 - MatthewsCorrelationCoefficient: 0.5369 - auc: 0.8753 - val_loss: 0.5717 - val_accuracy: 0.7922 - val_f1_score: 0.7256 - val_cohen_kappa: 0.4341 - val_MatthewsCorrelationCoefficient: 0.4530 - val_auc: 0.9160\n",
      "Epoch 8/25\n",
      "31/31 [==============================] - 1562s 50s/step - loss: 0.5485 - accuracy: 0.7760 - f1_score: 0.7553 - cohen_kappa: 0.5875 - MatthewsCorrelationCoefficient: 0.5890 - auc: 0.9204 - val_loss: 0.5279 - val_accuracy: 0.7792 - val_f1_score: 0.7987 - val_cohen_kappa: 0.4642 - val_MatthewsCorrelationCoefficient: 0.4660 - val_auc: 0.9303\n",
      "Epoch 9/25\n",
      "31/31 [==============================] - 1557s 50s/step - loss: 0.5198 - accuracy: 0.7987 - f1_score: 0.7767 - cohen_kappa: 0.6198 - MatthewsCorrelationCoefficient: 0.6258 - auc: 0.9295 - val_loss: 0.6504 - val_accuracy: 0.7403 - val_f1_score: 0.6877 - val_cohen_kappa: 0.4458 - val_MatthewsCorrelationCoefficient: 0.4571 - val_auc: 0.8864\n",
      "Epoch 10/25\n",
      "31/31 [==============================] - 1561s 51s/step - loss: 0.5439 - accuracy: 0.7727 - f1_score: 0.7696 - cohen_kappa: 0.5822 - MatthewsCorrelationCoefficient: 0.5845 - auc: 0.9221 - val_loss: 0.6118 - val_accuracy: 0.7662 - val_f1_score: 0.7402 - val_cohen_kappa: 0.4375 - val_MatthewsCorrelationCoefficient: 0.4385 - val_auc: 0.9032\n",
      "Epoch 11/25\n",
      "31/31 [==============================] - 1551s 50s/step - loss: 0.5700 - accuracy: 0.7857 - f1_score: 0.7516 - cohen_kappa: 0.5982 - MatthewsCorrelationCoefficient: 0.6029 - auc: 0.9175 - val_loss: 0.5930 - val_accuracy: 0.7922 - val_f1_score: 0.7098 - val_cohen_kappa: 0.4430 - val_MatthewsCorrelationCoefficient: 0.4589 - val_auc: 0.9115\n",
      "Epoch 12/25\n",
      "31/31 [==============================] - 1563s 51s/step - loss: 0.5080 - accuracy: 0.8117 - f1_score: 0.7856 - cohen_kappa: 0.6442 - MatthewsCorrelationCoefficient: 0.6507 - auc: 0.9326 - val_loss: 0.5040 - val_accuracy: 0.7662 - val_f1_score: 0.7660 - val_cohen_kappa: 0.3633 - val_MatthewsCorrelationCoefficient: 0.3792 - val_auc: 0.9319\n",
      "Epoch 13/25\n",
      "31/31 [==============================] - 1562s 51s/step - loss: 0.4646 - accuracy: 0.7922 - f1_score: 0.7986 - cohen_kappa: 0.6085 - MatthewsCorrelationCoefficient: 0.6143 - auc: 0.9448 - val_loss: 0.5237 - val_accuracy: 0.7922 - val_f1_score: 0.7804 - val_cohen_kappa: 0.5204 - val_MatthewsCorrelationCoefficient: 0.5231 - val_auc: 0.9295\n",
      "Epoch 14/25\n",
      "31/31 [==============================] - 1557s 50s/step - loss: 0.4320 - accuracy: 0.8474 - f1_score: 0.8297 - cohen_kappa: 0.7186 - MatthewsCorrelationCoefficient: 0.7207 - auc: 0.9503 - val_loss: 0.5141 - val_accuracy: 0.8312 - val_f1_score: 0.8169 - val_cohen_kappa: 0.6314 - val_MatthewsCorrelationCoefficient: 0.6362 - val_auc: 0.9327\n",
      "Epoch 15/25\n",
      "31/31 [==============================] - 1554s 50s/step - loss: 0.4399 - accuracy: 0.8344 - f1_score: 0.8224 - cohen_kappa: 0.7013 - MatthewsCorrelationCoefficient: 0.7015 - auc: 0.9491 - val_loss: 0.6389 - val_accuracy: 0.7662 - val_f1_score: 0.7367 - val_cohen_kappa: 0.4910 - val_MatthewsCorrelationCoefficient: 0.4942 - val_auc: 0.8972\n",
      "Epoch 16/25\n",
      "31/31 [==============================] - 1531s 50s/step - loss: 0.5292 - accuracy: 0.7987 - f1_score: 0.7639 - cohen_kappa: 0.6262 - MatthewsCorrelationCoefficient: 0.6290 - auc: 0.9273 - val_loss: 0.6187 - val_accuracy: 0.7662 - val_f1_score: 0.7336 - val_cohen_kappa: 0.4515 - val_MatthewsCorrelationCoefficient: 0.4532 - val_auc: 0.9006\n",
      "Epoch 17/25\n",
      "31/31 [==============================] - 1551s 50s/step - loss: 0.4331 - accuracy: 0.8442 - f1_score: 0.8290 - cohen_kappa: 0.7099 - MatthewsCorrelationCoefficient: 0.7138 - auc: 0.9519 - val_loss: 0.6680 - val_accuracy: 0.7143 - val_f1_score: 0.7211 - val_cohen_kappa: 0.2903 - val_MatthewsCorrelationCoefficient: 0.2935 - val_auc: 0.8999\n",
      "Epoch 18/25\n",
      "31/31 [==============================] - 1554s 50s/step - loss: 0.4237 - accuracy: 0.8701 - f1_score: 0.8589 - cohen_kappa: 0.7625 - MatthewsCorrelationCoefficient: 0.7636 - auc: 0.9555 - val_loss: 0.7472 - val_accuracy: 0.7792 - val_f1_score: 0.7695 - val_cohen_kappa: 0.4820 - val_MatthewsCorrelationCoefficient: 0.4838 - val_auc: 0.8921\n",
      "Epoch 19/25\n",
      "31/31 [==============================] - 1530s 49s/step - loss: 0.3679 - accuracy: 0.8831 - f1_score: 0.8572 - cohen_kappa: 0.7854 - MatthewsCorrelationCoefficient: 0.7874 - auc: 0.9657 - val_loss: 0.7312 - val_accuracy: 0.7532 - val_f1_score: 0.7337 - val_cohen_kappa: 0.3907 - val_MatthewsCorrelationCoefficient: 0.3930 - val_auc: 0.9022\n",
      "Epoch 20/25\n",
      "31/31 [==============================] - 1554s 50s/step - loss: 0.2618 - accuracy: 0.8961 - f1_score: 0.8935 - cohen_kappa: 0.8105 - MatthewsCorrelationCoefficient: 0.8115 - auc: 0.9828 - val_loss: 0.8009 - val_accuracy: 0.8312 - val_f1_score: 0.8244 - val_cohen_kappa: 0.5855 - val_MatthewsCorrelationCoefficient: 0.5882 - val_auc: 0.8935\n",
      "Epoch 21/25\n",
      "31/31 [==============================] - 1563s 50s/step - loss: 0.3298 - accuracy: 0.8994 - f1_score: 0.8859 - cohen_kappa: 0.8153 - MatthewsCorrelationCoefficient: 0.8177 - auc: 0.9709 - val_loss: 0.7556 - val_accuracy: 0.7792 - val_f1_score: 0.7977 - val_cohen_kappa: 0.5117 - val_MatthewsCorrelationCoefficient: 0.5137 - val_auc: 0.9001\n",
      "Epoch 22/25\n",
      "31/31 [==============================] - 1527s 49s/step - loss: 0.3167 - accuracy: 0.8831 - f1_score: 0.8830 - cohen_kappa: 0.7826 - MatthewsCorrelationCoefficient: 0.7864 - auc: 0.9733 - val_loss: 0.8065 - val_accuracy: 0.8052 - val_f1_score: 0.7914 - val_cohen_kappa: 0.5600 - val_MatthewsCorrelationCoefficient: 0.5617 - val_auc: 0.8898\n",
      "Epoch 23/25\n",
      "31/31 [==============================] - 1526s 49s/step - loss: 0.2880 - accuracy: 0.8929 - f1_score: 0.8841 - cohen_kappa: 0.8057 - MatthewsCorrelationCoefficient: 0.8069 - auc: 0.9784 - val_loss: 0.7449 - val_accuracy: 0.8442 - val_f1_score: 0.8240 - val_cohen_kappa: 0.6374 - val_MatthewsCorrelationCoefficient: 0.6374 - val_auc: 0.9103\n",
      "Epoch 24/25\n"
     ]
    },
    {
     "name": "stdout",
     "output_type": "stream",
     "text": [
      "31/31 [==============================] - 1321s 42s/step - loss: 0.2662 - accuracy: 0.9286 - f1_score: 0.9226 - cohen_kappa: 0.8703 - MatthewsCorrelationCoefficient: 0.8709 - auc: 0.9800 - val_loss: 1.1894 - val_accuracy: 0.8312 - val_f1_score: 0.8316 - val_cohen_kappa: 0.6146 - val_MatthewsCorrelationCoefficient: 0.6149 - val_auc: 0.9019\n",
      "Epoch 25/25\n",
      "31/31 [==============================] - 1282s 41s/step - loss: 0.4260 - accuracy: 0.8831 - f1_score: 0.8890 - cohen_kappa: 0.7845 - MatthewsCorrelationCoefficient: 0.7867 - auc: 0.9639 - val_loss: 0.8082 - val_accuracy: 0.8831 - val_f1_score: 0.8195 - val_cohen_kappa: 0.7036 - val_MatthewsCorrelationCoefficient: 0.7149 - val_auc: 0.9065\n"
     ]
    },
    {
     "name": "stderr",
     "output_type": "stream",
     "text": [
      "\r",
      " 50%|█████     | 1/2 [10:36:09<10:36:09, 38169.41s/it]"
     ]
    },
    {
     "name": "stdout",
     "output_type": "stream",
     "text": [
      "2022-04-07_vgg5_block_128_multiclass-fe-density\n",
      "Epoch 1/25\n",
      "31/31 [==============================] - 108s 3s/step - loss: 1.0294 - accuracy: 0.5357 - f1_score: 0.4056 - auc: 0.6995 - val_loss: 0.8334 - val_accuracy: 0.7273 - val_f1_score: 0.5635 - val_auc: 0.8626\n",
      "Epoch 2/25\n",
      "31/31 [==============================] - 92s 3s/step - loss: 0.9159 - accuracy: 0.5942 - f1_score: 0.4450 - auc: 0.7574 - val_loss: 0.7902 - val_accuracy: 0.7273 - val_f1_score: 0.6314 - val_auc: 0.8643\n",
      "Epoch 3/25\n",
      "31/31 [==============================] - 92s 3s/step - loss: 0.9249 - accuracy: 0.5487 - f1_score: 0.4205 - auc: 0.7489 - val_loss: 0.8481 - val_accuracy: 0.7532 - val_f1_score: 0.3725 - val_auc: 0.8669\n",
      "Epoch 4/25\n",
      "31/31 [==============================] - 91s 3s/step - loss: 0.8736 - accuracy: 0.6266 - f1_score: 0.4692 - auc: 0.7897 - val_loss: 0.7129 - val_accuracy: 0.7273 - val_f1_score: 0.6124 - val_auc: 0.8755\n",
      "Epoch 5/25\n",
      "31/31 [==============================] - 90s 3s/step - loss: 0.8487 - accuracy: 0.5974 - f1_score: 0.4695 - auc: 0.7957 - val_loss: 0.7128 - val_accuracy: 0.7403 - val_f1_score: 0.6185 - val_auc: 0.8698\n",
      "Epoch 6/25\n",
      "31/31 [==============================] - 89s 3s/step - loss: 0.8597 - accuracy: 0.6461 - f1_score: 0.5245 - auc: 0.7924 - val_loss: 0.6912 - val_accuracy: 0.7403 - val_f1_score: 0.6185 - val_auc: 0.8802\n",
      "Epoch 7/25\n",
      "31/31 [==============================] - 91s 3s/step - loss: 0.8055 - accuracy: 0.6591 - f1_score: 0.5704 - auc: 0.8188 - val_loss: 0.6974 - val_accuracy: 0.7532 - val_f1_score: 0.6287 - val_auc: 0.8837\n",
      "Epoch 8/25\n",
      "31/31 [==============================] - 89s 3s/step - loss: 0.7590 - accuracy: 0.6753 - f1_score: 0.6018 - auc: 0.8435 - val_loss: 0.6550 - val_accuracy: 0.7143 - val_f1_score: 0.6234 - val_auc: 0.8987\n",
      "Epoch 9/25\n",
      "31/31 [==============================] - 90s 3s/step - loss: 0.7350 - accuracy: 0.6851 - f1_score: 0.6323 - auc: 0.8534 - val_loss: 0.8514 - val_accuracy: 0.5455 - val_f1_score: 0.5231 - val_auc: 0.7840\n",
      "Epoch 10/25\n",
      "31/31 [==============================] - 90s 3s/step - loss: 0.7588 - accuracy: 0.6558 - f1_score: 0.6009 - auc: 0.8425 - val_loss: 0.6679 - val_accuracy: 0.7273 - val_f1_score: 0.7053 - val_auc: 0.8780\n",
      "Epoch 11/25\n",
      "31/31 [==============================] - 90s 3s/step - loss: 0.6939 - accuracy: 0.7110 - f1_score: 0.6429 - auc: 0.8722 - val_loss: 0.7049 - val_accuracy: 0.7532 - val_f1_score: 0.6472 - val_auc: 0.8740\n",
      "Epoch 12/25\n",
      "31/31 [==============================] - 90s 3s/step - loss: 0.7026 - accuracy: 0.6981 - f1_score: 0.6357 - auc: 0.8634 - val_loss: 0.6370 - val_accuracy: 0.7792 - val_f1_score: 0.7161 - val_auc: 0.8916\n",
      "Epoch 13/25\n",
      "31/31 [==============================] - 90s 3s/step - loss: 0.6409 - accuracy: 0.7403 - f1_score: 0.6806 - auc: 0.8864 - val_loss: 0.6272 - val_accuracy: 0.7792 - val_f1_score: 0.7179 - val_auc: 0.8869\n",
      "Epoch 14/25\n",
      "31/31 [==============================] - 88s 3s/step - loss: 0.6616 - accuracy: 0.7175 - f1_score: 0.6791 - auc: 0.8808 - val_loss: 0.6448 - val_accuracy: 0.7532 - val_f1_score: 0.7141 - val_auc: 0.8934\n",
      "Epoch 15/25\n",
      "31/31 [==============================] - 89s 3s/step - loss: 0.6997 - accuracy: 0.7273 - f1_score: 0.6748 - auc: 0.8693 - val_loss: 0.6198 - val_accuracy: 0.7532 - val_f1_score: 0.7162 - val_auc: 0.8904\n",
      "Epoch 16/25\n",
      "31/31 [==============================] - 90s 3s/step - loss: 0.6865 - accuracy: 0.7305 - f1_score: 0.6625 - auc: 0.8765 - val_loss: 0.5792 - val_accuracy: 0.7922 - val_f1_score: 0.7012 - val_auc: 0.9088\n",
      "Epoch 17/25\n",
      "31/31 [==============================] - 92s 3s/step - loss: 0.6620 - accuracy: 0.7435 - f1_score: 0.6996 - auc: 0.8806 - val_loss: 0.5936 - val_accuracy: 0.7662 - val_f1_score: 0.6980 - val_auc: 0.9020\n",
      "Epoch 18/25\n",
      "31/31 [==============================] - 81s 3s/step - loss: 0.6198 - accuracy: 0.7468 - f1_score: 0.7174 - auc: 0.8975 - val_loss: 0.5891 - val_accuracy: 0.7532 - val_f1_score: 0.6980 - val_auc: 0.9037\n",
      "Epoch 19/25\n",
      "31/31 [==============================] - 71s 2s/step - loss: 0.6313 - accuracy: 0.7403 - f1_score: 0.7245 - auc: 0.8942 - val_loss: 0.6710 - val_accuracy: 0.7532 - val_f1_score: 0.7248 - val_auc: 0.8758\n",
      "Epoch 20/25\n",
      "31/31 [==============================] - 72s 2s/step - loss: 0.6657 - accuracy: 0.7695 - f1_score: 0.7354 - auc: 0.8853 - val_loss: 0.6163 - val_accuracy: 0.7403 - val_f1_score: 0.6964 - val_auc: 0.8950\n",
      "Epoch 21/25\n",
      "31/31 [==============================] - 72s 2s/step - loss: 0.5999 - accuracy: 0.7825 - f1_score: 0.7162 - auc: 0.9065 - val_loss: 0.6088 - val_accuracy: 0.7532 - val_f1_score: 0.7177 - val_auc: 0.8959\n",
      "Epoch 22/25\n",
      "31/31 [==============================] - 72s 2s/step - loss: 0.5510 - accuracy: 0.7825 - f1_score: 0.7810 - auc: 0.9186 - val_loss: 0.7839 - val_accuracy: 0.6364 - val_f1_score: 0.6775 - val_auc: 0.8305\n",
      "Epoch 23/25\n",
      "31/31 [==============================] - 73s 2s/step - loss: 0.6297 - accuracy: 0.7630 - f1_score: 0.7191 - auc: 0.8918 - val_loss: 0.5642 - val_accuracy: 0.7922 - val_f1_score: 0.7508 - val_auc: 0.9087\n",
      "Epoch 24/25\n",
      "31/31 [==============================] - 73s 2s/step - loss: 0.5674 - accuracy: 0.8019 - f1_score: 0.7655 - auc: 0.9129 - val_loss: 0.5767 - val_accuracy: 0.7792 - val_f1_score: 0.7620 - val_auc: 0.9066\n",
      "Epoch 25/25\n",
      "31/31 [==============================] - 72s 2s/step - loss: 0.5769 - accuracy: 0.7857 - f1_score: 0.7695 - auc: 0.9126 - val_loss: 0.7900 - val_accuracy: 0.7013 - val_f1_score: 0.6803 - val_auc: 0.8313\n"
     ]
    },
    {
     "name": "stderr",
     "output_type": "stream",
     "text": [
      "100%|██████████| 2/2 [11:11:51<00:00, 20155.55s/it]   \n"
     ]
    }
   ],
   "source": [
    "histories = []\n",
    "models_ = [\n",
    "    models.unet(input_shape=(img_size, img_size, 3), number_of_classes=3), \n",
    "    models.vgg5_block(input_shape=(img_size, img_size, 3), number_of_classes=3),\n",
    "    #models.vgg16(input_shape=(img_size, img_size, 3), number_of_classes=3), \n",
    "    #models.vgg19(input_shape=(img_size, img_size, 3), number_of_classes=3),\n",
    "    #models.resnet50(input_shape=(img_size, img_size, 3), number_of_classes=3), \n",
    "    #models.deeplabv3plus(input_shape=(img_size, img_size, 3), number_of_classes=3),\n",
    "    #models.nasnet_mobile(input_shape=(img_size, img_size, 3), number_of_classes=3), \n",
    "    #models.inception_resnetv2(input_shape=(img_size, img_size, 3), number_of_classes=3), \n",
    "    #models.double_unet(input_shape=(img_size, img_size, 3), number_of_classes=3)\n",
    "]\n",
    "\n",
    "for model in tqdm(models_):\n",
    "    MODEL_NAME = f\"{date}_{model.name}_{img_size}_{task}\"\n",
    "    print(MODEL_NAME)\n",
    "    history =model.fit(train_x, train_y, batch_size=10,\n",
    "                    validation_split=0.2,\n",
    "                    epochs=25, \n",
    "                    #callbacks = tf.keras.callbacks.EarlyStopping(monitor='val_loss',patience=2,),\n",
    "                    verbose = 1)\n",
    "    histories.append(history)\n",
    "\n",
    "    save_logs(history, MODEL_NAME)\n",
    "        #save m-odel\n",
    "    tf.keras.models.save_model(\n",
    "        model,\n",
    "        f'./models/{task}/{MODEL_NAME}.h5')\n",
    "           "
   ]
  },
  {
   "cell_type": "code",
   "execution_count": null,
   "id": "a23d1f5e",
   "metadata": {},
   "outputs": [],
   "source": []
  }
 ],
 "metadata": {
  "kernelspec": {
   "display_name": "Python 3 (ipykernel)",
   "language": "python",
   "name": "python3"
  },
  "language_info": {
   "codemirror_mode": {
    "name": "ipython",
    "version": 3
   },
   "file_extension": ".py",
   "mimetype": "text/x-python",
   "name": "python",
   "nbconvert_exporter": "python",
   "pygments_lexer": "ipython3",
   "version": "3.9.7"
  }
 },
 "nbformat": 4,
 "nbformat_minor": 5
}
