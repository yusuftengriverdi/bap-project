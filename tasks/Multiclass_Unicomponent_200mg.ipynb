{
 "cells": [
  {
   "cell_type": "code",
   "execution_count": 1,
   "id": "b68e7421",
   "metadata": {
    "scrolled": false
   },
   "outputs": [],
   "source": [
    "# !pip install -r requirements.txt\n",
    "## Base of notebooks\n",
    "%load_ext autoreload\n",
    "%autoreload 2\n",
    "import tensorflow as tf"
   ]
  },
  {
   "cell_type": "code",
   "execution_count": 2,
   "id": "15a5ec81",
   "metadata": {},
   "outputs": [],
   "source": [
    "from datetime import datetime\n",
    "\n",
    "now = datetime.now() # current date and time\n",
    "date = now.strftime(\"%Y-%m-%d\")\n",
    "img_size = 128\n",
    "task  = 'multiclass-200mg'"
   ]
  },
  {
   "cell_type": "code",
   "execution_count": 3,
   "id": "afae7156",
   "metadata": {},
   "outputs": [],
   "source": [
    "import sys \n",
    "sys.path.append('..')\n",
    "\n",
    "from utils import *\n",
    "import models"
   ]
  },
  {
   "cell_type": "code",
   "execution_count": 4,
   "id": "d104964f",
   "metadata": {},
   "outputs": [
    {
     "name": "stderr",
     "output_type": "stream",
     "text": [
      "100%|██████████| 51/51 [00:05<00:00,  9.23it/s]\n",
      "100%|██████████| 49/49 [00:05<00:00,  8.22it/s]\n",
      "100%|██████████| 100/100 [00:15<00:00,  6.49it/s]\n",
      "100%|██████████| 161/161 [00:24<00:00,  6.46it/s]\n",
      "100%|██████████| 153/153 [00:25<00:00,  6.02it/s]\n",
      "100%|██████████| 43/43 [00:06<00:00,  6.44it/s]\n"
     ]
    },
    {
     "name": "stdout",
     "output_type": "stream",
     "text": [
      "Al for 5 Cannot found!\n"
     ]
    },
    {
     "name": "stderr",
     "output_type": "stream",
     "text": [
      "100%|██████████| 16/16 [00:02<00:00,  6.39it/s]\n",
      "100%|██████████| 150/150 [00:23<00:00,  6.27it/s]\n",
      "100%|██████████| 136/136 [00:21<00:00,  6.27it/s]\n",
      "100%|██████████| 53/53 [00:08<00:00,  6.54it/s]\n",
      "100%|██████████| 50/50 [00:07<00:00,  6.75it/s]\n",
      "100%|██████████| 97/97 [00:14<00:00,  6.68it/s]\n",
      "100%|██████████| 150/150 [00:23<00:00,  6.51it/s]\n",
      "100%|██████████| 150/150 [00:23<00:00,  6.49it/s]"
     ]
    },
    {
     "name": "stdout",
     "output_type": "stream",
     "text": [
      "Fe2 : 51\n",
      "Fe5 : 49\n",
      "Fe10 : 100\n",
      "Fe20 : 161\n",
      "Fe200 : 153\n",
      "Al2 : 43\n",
      "Al10 : 16\n",
      "Al20 : 150\n",
      "Al200 : 136\n",
      "Pb2 : 53\n",
      "Pb5 : 50\n",
      "Pb10 : 97\n",
      "Pb20 : 150\n",
      "Pb200 : 150\n",
      "dict_keys(['Fe2', 'Fe5', 'Fe10', 'Fe20', 'Fe200', 'Al2', 'Al10', 'Al20', 'Al200', 'Pb2', 'Pb5', 'Pb10', 'Pb20', 'Pb200'])\n"
     ]
    },
    {
     "name": "stderr",
     "output_type": "stream",
     "text": [
      "\n"
     ]
    }
   ],
   "source": [
    "base_data = stack_images(im_size=img_size, directory= \"C:\\\\Users\\\\baran.tanriverdi\\\\Final Data\")"
   ]
  },
  {
   "cell_type": "code",
   "execution_count": 5,
   "id": "bb63944d",
   "metadata": {},
   "outputs": [
    {
     "data": {
      "text/plain": [
       "(49, 128, 128, 3)"
      ]
     },
     "execution_count": 5,
     "metadata": {},
     "output_type": "execute_result"
    }
   ],
   "source": [
    "np.asarray(base_data['Fe5']).shape"
   ]
  },
  {
   "cell_type": "code",
   "execution_count": 6,
   "id": "ff2b940d",
   "metadata": {},
   "outputs": [
    {
     "name": "stdout",
     "output_type": "stream",
     "text": [
      "(153, 128, 128, 3)\n",
      "(136, 128, 128, 3)\n",
      "(150, 128, 128, 3)\n",
      "439 153 136 150\n",
      "439 439\n",
      "329 110\n"
     ]
    },
    {
     "name": "stderr",
     "output_type": "stream",
     "text": [
      "C:\\Users\\baran.tanriverdi\\AppData\\Local\\Temp\\ipykernel_7740\\1130292994.py:32: VisibleDeprecationWarning: Creating an ndarray from ragged nested sequences (which is a list-or-tuple of lists-or-tuples-or ndarrays with different lengths or shapes) is deprecated. If you meant to do this, you must specify 'dtype=object' when creating the ndarray.\n",
      "  data = np.asarray(imlist)\n"
     ]
    }
   ],
   "source": [
    "# Configyure for current experiment\n",
    "\n",
    "x1 = []\n",
    "for imset in [base_data['Fe200']]:\n",
    "    for im in imset:\n",
    "        x1.append(im)\n",
    "print(np.asarray(x1).shape)\n",
    "\n",
    "x2 = []\n",
    "for imset in [base_data['Al200']]:\n",
    "    for im in imset:\n",
    "        x2.append(im)\n",
    "print(np.asarray(x2).shape)\n",
    "        \n",
    "x3 = []\n",
    "for imset in [base_data['Pb200']]:\n",
    "    for im in imset:\n",
    "        x3.append(im)\n",
    "print(np.asarray(x3).shape)\n",
    "\n",
    "imlist = []\n",
    "one_hot_vector = np.eye(3)\n",
    "for x in x1:\n",
    "    imlist.append([x, one_hot_vector[0]])\n",
    "for x in x2:\n",
    "    imlist.append([x, one_hot_vector[1]])  \n",
    "for x in x3:\n",
    "    imlist.append([x, one_hot_vector[2]]) \n",
    "    \n",
    "print(len(imlist), len(x1), len(x2), len(x3))\n",
    "\n",
    "data = np.asarray(imlist)\n",
    "\n",
    "np.random.shuffle(data)\n",
    "\n",
    "x = np.asarray([i[0] / 255.0 for i in data])\n",
    "y = np.asarray([i[1] for i in data])\n",
    "\n",
    "print(len(x), len(y))\n",
    "boundary = int(len(x) * 0.75)\n",
    "\n",
    "train_x = x[:boundary]\n",
    "train_y = y[:boundary]\n",
    "test_x = x[boundary:]\n",
    "test_y = y[boundary:]\n",
    "\n",
    "print(len(train_x), len(test_x))"
   ]
  },
  {
   "cell_type": "code",
   "execution_count": 8,
   "id": "cfb962c1",
   "metadata": {},
   "outputs": [
    {
     "name": "stdout",
     "output_type": "stream",
     "text": [
      "<keras.engine.functional.Functional object at 0x00000158A2ACE7F0>\n",
      "Model: \"vgg5_block\"\n",
      "_________________________________________________________________\n",
      " Layer (type)                Output Shape              Param #   \n",
      "=================================================================\n",
      " conv2d_34 (Conv2D)          (None, 128, 128, 32)      896       \n",
      "                                                                 \n",
      " conv2d_35 (Conv2D)          (None, 128, 128, 32)      9248      \n",
      "                                                                 \n",
      " max_pooling2d_6 (MaxPooling  (None, 64, 64, 32)       0         \n",
      " 2D)                                                             \n",
      "                                                                 \n",
      " conv2d_36 (Conv2D)          (None, 64, 64, 64)        18496     \n",
      "                                                                 \n",
      " conv2d_37 (Conv2D)          (None, 64, 64, 64)        36928     \n",
      "                                                                 \n",
      " max_pooling2d_7 (MaxPooling  (None, 32, 32, 64)       0         \n",
      " 2D)                                                             \n",
      "                                                                 \n",
      " conv2d_38 (Conv2D)          (None, 32, 32, 128)       73856     \n",
      "                                                                 \n",
      " conv2d_39 (Conv2D)          (None, 32, 32, 128)       147584    \n",
      "                                                                 \n",
      " max_pooling2d_8 (MaxPooling  (None, 16, 16, 128)      0         \n",
      " 2D)                                                             \n",
      "                                                                 \n",
      " conv2d_40 (Conv2D)          (None, 16, 16, 256)       295168    \n",
      "                                                                 \n",
      " conv2d_41 (Conv2D)          (None, 16, 16, 256)       590080    \n",
      "                                                                 \n",
      " max_pooling2d_9 (MaxPooling  (None, 8, 8, 256)        0         \n",
      " 2D)                                                             \n",
      "                                                                 \n",
      " conv2d_42 (Conv2D)          (None, 8, 8, 1024)        2360320   \n",
      "                                                                 \n",
      " conv2d_43 (Conv2D)          (None, 8, 8, 1024)        9438208   \n",
      "                                                                 \n",
      " max_pooling2d_10 (MaxPoolin  (None, 4, 4, 1024)       0         \n",
      " g2D)                                                            \n",
      "                                                                 \n",
      " flatten (Flatten)           (None, 16384)             0         \n",
      "                                                                 \n",
      " dense_6 (Dense)             (None, 256)               4194560   \n",
      "                                                                 \n",
      " dropout_4 (Dropout)         (None, 256)               0         \n",
      "                                                                 \n",
      " dense_7 (Dense)             (None, 32)                8224      \n",
      "                                                                 \n",
      " dropout_5 (Dropout)         (None, 32)                0         \n",
      "                                                                 \n",
      " dense_8 (Dense)             (None, 3)                 99        \n",
      "                                                                 \n",
      "=================================================================\n",
      "Total params: 17,173,667\n",
      "Trainable params: 17,173,667\n",
      "Non-trainable params: 0\n",
      "_________________________________________________________________\n",
      "None\n"
     ]
    },
    {
     "name": "stderr",
     "output_type": "stream",
     "text": [
      "\r",
      "  0%|          | 0/2 [00:00<?, ?it/s]"
     ]
    },
    {
     "name": "stdout",
     "output_type": "stream",
     "text": [
      "unet\n",
      "Epoch 1/25\n",
      "27/27 [==============================] - 1386s 50s/step - loss: 1391.8234 - accuracy: 0.3916 - f1_score: 0.1883 - cohen_kappa: 0.0775 - MatthewsCorrelationCoefficient: 0.0778 - auc: 0.5393 - val_loss: 1.0863 - val_accuracy: 0.3333 - val_f1_score: 0.0000e+00 - val_cohen_kappa: 0.1076 - val_MatthewsCorrelationCoefficient: 0.2169 - val_auc: 0.5765\n",
      "Epoch 2/25\n",
      "27/27 [==============================] - 1331s 49s/step - loss: 1.6161 - accuracy: 0.4259 - f1_score: 0.1909 - cohen_kappa: 0.1164 - MatthewsCorrelationCoefficient: 0.1227 - auc: 0.5830 - val_loss: 1.1417 - val_accuracy: 0.2273 - val_f1_score: 0.0874 - val_cohen_kappa: -0.0042 - val_MatthewsCorrelationCoefficient: -0.0165 - val_auc: 0.4678\n",
      "Epoch 3/25\n",
      "27/27 [==============================] - 1318s 49s/step - loss: 1.1514 - accuracy: 0.3802 - f1_score: 0.0661 - cohen_kappa: 0.0716 - MatthewsCorrelationCoefficient: 0.0761 - auc: 0.5569 - val_loss: 1.0973 - val_accuracy: 0.3030 - val_f1_score: 0.0000e+00 - val_cohen_kappa: 0.0630 - val_MatthewsCorrelationCoefficient: 0.1202 - val_auc: 0.5302\n",
      "Epoch 4/25\n",
      "27/27 [==============================] - 1326s 49s/step - loss: 1.0991 - accuracy: 0.4068 - f1_score: 0.0000e+00 - cohen_kappa: 0.0840 - MatthewsCorrelationCoefficient: 0.0924 - auc: 0.5468 - val_loss: 1.0991 - val_accuracy: 0.3182 - val_f1_score: 0.0000e+00 - val_cohen_kappa: 0.0873 - val_MatthewsCorrelationCoefficient: 0.1760 - val_auc: 0.4975\n",
      "Epoch 5/25\n",
      "27/27 [==============================] - 1330s 49s/step - loss: 1.0955 - accuracy: 0.3840 - f1_score: 0.0000e+00 - cohen_kappa: 0.0267 - MatthewsCorrelationCoefficient: 0.0417 - auc: 0.5571 - val_loss: 1.0988 - val_accuracy: 0.3333 - val_f1_score: 0.0000e+00 - val_cohen_kappa: 0.0959 - val_MatthewsCorrelationCoefficient: 0.1672 - val_auc: 0.5150\n",
      "Epoch 6/25\n",
      "27/27 [==============================] - 1329s 49s/step - loss: 1.0923 - accuracy: 0.4525 - f1_score: 0.0000e+00 - cohen_kappa: 0.1525 - MatthewsCorrelationCoefficient: 0.1710 - auc: 0.5790 - val_loss: 1.0747 - val_accuracy: 0.5455 - val_f1_score: 0.0000e+00 - val_cohen_kappa: 0.2908 - val_MatthewsCorrelationCoefficient: 0.3386 - val_auc: 0.6425\n",
      "Epoch 7/25\n",
      "27/27 [==============================] - 1316s 49s/step - loss: 1.0814 - accuracy: 0.4639 - f1_score: 0.0755 - cohen_kappa: 0.1812 - MatthewsCorrelationCoefficient: 0.1851 - auc: 0.5983 - val_loss: 1.0386 - val_accuracy: 0.3636 - val_f1_score: 0.2220 - val_cohen_kappa: 0.1444 - val_MatthewsCorrelationCoefficient: 0.2483 - val_auc: 0.6289\n",
      "Epoch 8/25\n",
      "27/27 [==============================] - 1323s 49s/step - loss: 1.0607 - accuracy: 0.4677 - f1_score: 0.2131 - cohen_kappa: 0.1805 - MatthewsCorrelationCoefficient: 0.1900 - auc: 0.6582 - val_loss: 1.0030 - val_accuracy: 0.6061 - val_f1_score: 0.1255 - val_cohen_kappa: 0.3945 - val_MatthewsCorrelationCoefficient: 0.4446 - val_auc: 0.7322\n",
      "Epoch 9/25\n",
      "27/27 [==============================] - 1338s 50s/step - loss: 1.0612 - accuracy: 0.4525 - f1_score: 0.1472 - cohen_kappa: 0.1546 - MatthewsCorrelationCoefficient: 0.1653 - auc: 0.6170 - val_loss: 0.9929 - val_accuracy: 0.5909 - val_f1_score: 0.1286 - val_cohen_kappa: 0.3520 - val_MatthewsCorrelationCoefficient: 0.4153 - val_auc: 0.7464\n",
      "Epoch 10/25\n",
      "27/27 [==============================] - 1334s 50s/step - loss: 1.0064 - accuracy: 0.5361 - f1_score: 0.2581 - cohen_kappa: 0.2874 - MatthewsCorrelationCoefficient: 0.3042 - auc: 0.6947 - val_loss: 0.9245 - val_accuracy: 0.5758 - val_f1_score: 0.3895 - val_cohen_kappa: 0.3543 - val_MatthewsCorrelationCoefficient: 0.4119 - val_auc: 0.7723\n",
      "Epoch 11/25\n",
      "27/27 [==============================] - 1334s 49s/step - loss: 0.9649 - accuracy: 0.5323 - f1_score: 0.3486 - cohen_kappa: 0.2861 - MatthewsCorrelationCoefficient: 0.2944 - auc: 0.7189 - val_loss: 0.9186 - val_accuracy: 0.5152 - val_f1_score: 0.2670 - val_cohen_kappa: 0.3109 - val_MatthewsCorrelationCoefficient: 0.3928 - val_auc: 0.7496\n",
      "Epoch 12/25\n",
      "27/27 [==============================] - 1323s 49s/step - loss: 0.9013 - accuracy: 0.6008 - f1_score: 0.4329 - cohen_kappa: 0.3951 - MatthewsCorrelationCoefficient: 0.3994 - auc: 0.7709 - val_loss: 0.8859 - val_accuracy: 0.5909 - val_f1_score: 0.3022 - val_cohen_kappa: 0.3696 - val_MatthewsCorrelationCoefficient: 0.4223 - val_auc: 0.7739\n",
      "Epoch 13/25\n",
      "27/27 [==============================] - 1328s 49s/step - loss: 0.8780 - accuracy: 0.5894 - f1_score: 0.4758 - cohen_kappa: 0.3742 - MatthewsCorrelationCoefficient: 0.3945 - auc: 0.7865 - val_loss: 0.8056 - val_accuracy: 0.6515 - val_f1_score: 0.4236 - val_cohen_kappa: 0.4670 - val_MatthewsCorrelationCoefficient: 0.4812 - val_auc: 0.8117\n",
      "Epoch 14/25\n",
      "27/27 [==============================] - 1325s 49s/step - loss: 0.8526 - accuracy: 0.5970 - f1_score: 0.4163 - cohen_kappa: 0.3870 - MatthewsCorrelationCoefficient: 0.3971 - auc: 0.7878 - val_loss: 0.7725 - val_accuracy: 0.6667 - val_f1_score: 0.5151 - val_cohen_kappa: 0.4825 - val_MatthewsCorrelationCoefficient: 0.4910 - val_auc: 0.8216\n",
      "Epoch 15/25\n",
      "27/27 [==============================] - 1339s 50s/step - loss: 0.8268 - accuracy: 0.5894 - f1_score: 0.4841 - cohen_kappa: 0.3778 - MatthewsCorrelationCoefficient: 0.3814 - auc: 0.7964 - val_loss: 0.7882 - val_accuracy: 0.6667 - val_f1_score: 0.4792 - val_cohen_kappa: 0.4864 - val_MatthewsCorrelationCoefficient: 0.4975 - val_auc: 0.8178\n",
      "Epoch 16/25\n",
      "27/27 [==============================] - 1322s 49s/step - loss: 0.7921 - accuracy: 0.6464 - f1_score: 0.5211 - cohen_kappa: 0.4658 - MatthewsCorrelationCoefficient: 0.4717 - auc: 0.8260 - val_loss: 0.7809 - val_accuracy: 0.6364 - val_f1_score: 0.5768 - val_cohen_kappa: 0.4397 - val_MatthewsCorrelationCoefficient: 0.4687 - val_auc: 0.8194\n",
      "Epoch 17/25\n",
      "27/27 [==============================] - 1335s 50s/step - loss: 0.7127 - accuracy: 0.6692 - f1_score: 0.6132 - cohen_kappa: 0.4987 - MatthewsCorrelationCoefficient: 0.5009 - auc: 0.8574 - val_loss: 0.8943 - val_accuracy: 0.6667 - val_f1_score: 0.5232 - val_cohen_kappa: 0.5106 - val_MatthewsCorrelationCoefficient: 0.5380 - val_auc: 0.8193\n",
      "Epoch 18/25\n",
      "27/27 [==============================] - 1335s 50s/step - loss: 0.8162 - accuracy: 0.6426 - f1_score: 0.5473 - cohen_kappa: 0.4591 - MatthewsCorrelationCoefficient: 0.4626 - auc: 0.8211 - val_loss: 0.7526 - val_accuracy: 0.6364 - val_f1_score: 0.5348 - val_cohen_kappa: 0.4383 - val_MatthewsCorrelationCoefficient: 0.4716 - val_auc: 0.8366\n",
      "Epoch 19/25\n",
      "27/27 [==============================] - 1327s 49s/step - loss: 0.7216 - accuracy: 0.6540 - f1_score: 0.5798 - cohen_kappa: 0.4778 - MatthewsCorrelationCoefficient: 0.4807 - auc: 0.8609 - val_loss: 0.6189 - val_accuracy: 0.7727 - val_f1_score: 0.6262 - val_cohen_kappa: 0.6515 - val_MatthewsCorrelationCoefficient: 0.6532 - val_auc: 0.9123\n",
      "Epoch 20/25\n",
      "27/27 [==============================] - 1325s 49s/step - loss: 0.6554 - accuracy: 0.7300 - f1_score: 0.6917 - cohen_kappa: 0.5936 - MatthewsCorrelationCoefficient: 0.5962 - auc: 0.8833 - val_loss: 0.5932 - val_accuracy: 0.7121 - val_f1_score: 0.7265 - val_cohen_kappa: 0.5640 - val_MatthewsCorrelationCoefficient: 0.5696 - val_auc: 0.9024\n",
      "Epoch 21/25\n",
      "27/27 [==============================] - 1326s 49s/step - loss: 0.5994 - accuracy: 0.7567 - f1_score: 0.7267 - cohen_kappa: 0.6322 - MatthewsCorrelationCoefficient: 0.6331 - auc: 0.9034 - val_loss: 0.5316 - val_accuracy: 0.7424 - val_f1_score: 0.7288 - val_cohen_kappa: 0.5971 - val_MatthewsCorrelationCoefficient: 0.5991 - val_auc: 0.9248\n",
      "Epoch 22/25\n",
      "27/27 [==============================] - 1327s 49s/step - loss: 0.5289 - accuracy: 0.7985 - f1_score: 0.7851 - cohen_kappa: 0.6963 - MatthewsCorrelationCoefficient: 0.6966 - auc: 0.9255 - val_loss: 0.5934 - val_accuracy: 0.7424 - val_f1_score: 0.7293 - val_cohen_kappa: 0.6089 - val_MatthewsCorrelationCoefficient: 0.6148 - val_auc: 0.9046\n",
      "Epoch 23/25\n",
      "27/27 [==============================] - 1330s 49s/step - loss: 0.5133 - accuracy: 0.8023 - f1_score: 0.7929 - cohen_kappa: 0.7026 - MatthewsCorrelationCoefficient: 0.7035 - auc: 0.9338 - val_loss: 0.6161 - val_accuracy: 0.7424 - val_f1_score: 0.7369 - val_cohen_kappa: 0.6089 - val_MatthewsCorrelationCoefficient: 0.6173 - val_auc: 0.9023\n",
      "Epoch 24/25\n"
     ]
    },
    {
     "name": "stdout",
     "output_type": "stream",
     "text": [
      "27/27 [==============================] - 1337s 50s/step - loss: 0.4467 - accuracy: 0.8441 - f1_score: 0.8267 - cohen_kappa: 0.7644 - MatthewsCorrelationCoefficient: 0.7653 - auc: 0.9481 - val_loss: 0.9009 - val_accuracy: 0.7424 - val_f1_score: 0.7328 - val_cohen_kappa: 0.6060 - val_MatthewsCorrelationCoefficient: 0.6086 - val_auc: 0.8837\n",
      "Epoch 25/25\n",
      "27/27 [==============================] - 1330s 49s/step - loss: 0.3769 - accuracy: 0.8479 - f1_score: 0.8430 - cohen_kappa: 0.7703 - MatthewsCorrelationCoefficient: 0.7724 - auc: 0.9620 - val_loss: 0.9133 - val_accuracy: 0.7727 - val_f1_score: 0.7682 - val_cohen_kappa: 0.6463 - val_MatthewsCorrelationCoefficient: 0.6479 - val_auc: 0.9031\n"
     ]
    },
    {
     "name": "stderr",
     "output_type": "stream",
     "text": [
      "\r",
      " 50%|█████     | 1/2 [9:15:05<9:15:05, 33305.56s/it]"
     ]
    },
    {
     "name": "stdout",
     "output_type": "stream",
     "text": [
      "vgg5_block\n",
      "Epoch 1/25\n",
      "27/27 [==============================] - 112s 4s/step - loss: 1.2765 - accuracy: 0.3878 - f1_score: 0.3236 - auc: 0.5501 - val_loss: 1.0185 - val_accuracy: 0.5000 - val_f1_score: 0.0000e+00 - val_auc: 0.7121\n",
      "Epoch 2/25\n",
      "27/27 [==============================] - 96s 4s/step - loss: 1.0862 - accuracy: 0.4259 - f1_score: 0.2621 - auc: 0.5975 - val_loss: 0.9988 - val_accuracy: 0.5152 - val_f1_score: 0.1285 - val_auc: 0.7625\n",
      "Epoch 3/25\n",
      "27/27 [==============================] - 97s 4s/step - loss: 0.9820 - accuracy: 0.5095 - f1_score: 0.3464 - auc: 0.7047 - val_loss: 1.0446 - val_accuracy: 0.4394 - val_f1_score: 0.2516 - val_auc: 0.6585\n",
      "Epoch 4/25\n",
      "27/27 [==============================] - 97s 4s/step - loss: 0.9459 - accuracy: 0.5209 - f1_score: 0.3947 - auc: 0.7266 - val_loss: 0.8124 - val_accuracy: 0.6212 - val_f1_score: 0.5268 - val_auc: 0.8262\n",
      "Epoch 5/25\n",
      "27/27 [==============================] - 96s 4s/step - loss: 0.8828 - accuracy: 0.5932 - f1_score: 0.4712 - auc: 0.7760 - val_loss: 0.8371 - val_accuracy: 0.5758 - val_f1_score: 0.5031 - val_auc: 0.8143\n",
      "Epoch 6/25\n",
      "27/27 [==============================] - 95s 4s/step - loss: 0.8597 - accuracy: 0.5970 - f1_score: 0.4831 - auc: 0.7873 - val_loss: 0.6846 - val_accuracy: 0.6667 - val_f1_score: 0.5534 - val_auc: 0.8969\n",
      "Epoch 7/25\n",
      "27/27 [==============================] - 96s 4s/step - loss: 0.7870 - accuracy: 0.6540 - f1_score: 0.5509 - auc: 0.8276 - val_loss: 0.6145 - val_accuracy: 0.8636 - val_f1_score: 0.5738 - val_auc: 0.9568\n",
      "Epoch 8/25\n",
      "27/27 [==============================] - 92s 3s/step - loss: 0.8151 - accuracy: 0.6426 - f1_score: 0.5443 - auc: 0.8101 - val_loss: 0.6669 - val_accuracy: 0.7121 - val_f1_score: 0.5528 - val_auc: 0.9060\n",
      "Epoch 9/25\n",
      "27/27 [==============================] - 96s 4s/step - loss: 0.8037 - accuracy: 0.6084 - f1_score: 0.4932 - auc: 0.8119 - val_loss: 0.6807 - val_accuracy: 0.7121 - val_f1_score: 0.5539 - val_auc: 0.8977\n",
      "Epoch 10/25\n",
      "27/27 [==============================] - 96s 4s/step - loss: 0.7307 - accuracy: 0.6958 - f1_score: 0.5865 - auc: 0.8529 - val_loss: 0.5899 - val_accuracy: 0.8030 - val_f1_score: 0.6744 - val_auc: 0.9448\n",
      "Epoch 11/25\n",
      "27/27 [==============================] - 96s 4s/step - loss: 0.7191 - accuracy: 0.6768 - f1_score: 0.5499 - auc: 0.8557 - val_loss: 0.6073 - val_accuracy: 0.7727 - val_f1_score: 0.6640 - val_auc: 0.9097\n",
      "Epoch 12/25\n",
      "27/27 [==============================] - 95s 4s/step - loss: 0.7208 - accuracy: 0.6958 - f1_score: 0.6352 - auc: 0.8596 - val_loss: 0.6759 - val_accuracy: 0.6667 - val_f1_score: 0.5473 - val_auc: 0.8806\n",
      "Epoch 13/25\n",
      "27/27 [==============================] - 94s 3s/step - loss: 0.6940 - accuracy: 0.7110 - f1_score: 0.5832 - auc: 0.8729 - val_loss: 0.5868 - val_accuracy: 0.7424 - val_f1_score: 0.5603 - val_auc: 0.9108\n",
      "Epoch 14/25\n",
      "27/27 [==============================] - 95s 4s/step - loss: 0.7267 - accuracy: 0.6540 - f1_score: 0.5851 - auc: 0.8569 - val_loss: 0.6445 - val_accuracy: 0.7121 - val_f1_score: 0.6055 - val_auc: 0.8914\n",
      "Epoch 15/25\n",
      "27/27 [==============================] - 93s 3s/step - loss: 0.6732 - accuracy: 0.6996 - f1_score: 0.6274 - auc: 0.8772 - val_loss: 0.5231 - val_accuracy: 0.8485 - val_f1_score: 0.8112 - val_auc: 0.9459\n",
      "Epoch 16/25\n",
      "27/27 [==============================] - 94s 3s/step - loss: 0.6018 - accuracy: 0.7300 - f1_score: 0.6737 - auc: 0.9009 - val_loss: 0.4814 - val_accuracy: 0.8485 - val_f1_score: 0.8441 - val_auc: 0.9510\n",
      "Epoch 17/25\n",
      "27/27 [==============================] - 93s 3s/step - loss: 0.6567 - accuracy: 0.7262 - f1_score: 0.6664 - auc: 0.8845 - val_loss: 0.5598 - val_accuracy: 0.7727 - val_f1_score: 0.6018 - val_auc: 0.9245\n",
      "Epoch 18/25\n",
      "27/27 [==============================] - 96s 4s/step - loss: 0.6173 - accuracy: 0.7262 - f1_score: 0.6632 - auc: 0.8976 - val_loss: 0.5976 - val_accuracy: 0.7424 - val_f1_score: 0.6820 - val_auc: 0.9032\n",
      "Epoch 19/25\n",
      "27/27 [==============================] - 95s 4s/step - loss: 0.6248 - accuracy: 0.7300 - f1_score: 0.6531 - auc: 0.8959 - val_loss: 0.5944 - val_accuracy: 0.7121 - val_f1_score: 0.7400 - val_auc: 0.9040\n",
      "Epoch 20/25\n",
      "27/27 [==============================] - 94s 3s/step - loss: 0.5545 - accuracy: 0.7719 - f1_score: 0.7632 - auc: 0.9231 - val_loss: 0.7297 - val_accuracy: 0.6212 - val_f1_score: 0.6143 - val_auc: 0.8551\n",
      "Epoch 21/25\n",
      "27/27 [==============================] - 95s 4s/step - loss: 0.5956 - accuracy: 0.7414 - f1_score: 0.6794 - auc: 0.9017 - val_loss: 0.4993 - val_accuracy: 0.8030 - val_f1_score: 0.8159 - val_auc: 0.9423\n",
      "Epoch 22/25\n",
      "27/27 [==============================] - 95s 4s/step - loss: 0.6066 - accuracy: 0.7262 - f1_score: 0.6926 - auc: 0.9011 - val_loss: 0.4338 - val_accuracy: 0.8636 - val_f1_score: 0.8705 - val_auc: 0.9615\n",
      "Epoch 23/25\n",
      "27/27 [==============================] - 95s 4s/step - loss: 0.5708 - accuracy: 0.7795 - f1_score: 0.7702 - auc: 0.9172 - val_loss: 0.4712 - val_accuracy: 0.8485 - val_f1_score: 0.8252 - val_auc: 0.9556\n",
      "Epoch 24/25\n",
      "27/27 [==============================] - 97s 4s/step - loss: 0.5674 - accuracy: 0.7490 - f1_score: 0.7240 - auc: 0.9115 - val_loss: 0.4582 - val_accuracy: 0.8333 - val_f1_score: 0.8292 - val_auc: 0.9520\n",
      "Epoch 25/25\n",
      "27/27 [==============================] - 96s 4s/step - loss: 0.5536 - accuracy: 0.7605 - f1_score: 0.7596 - auc: 0.9216 - val_loss: 0.4611 - val_accuracy: 0.8333 - val_f1_score: 0.7833 - val_auc: 0.9485\n"
     ]
    },
    {
     "name": "stderr",
     "output_type": "stream",
     "text": [
      "100%|██████████| 2/2 [9:55:04<00:00, 17852.50s/it]  \n"
     ]
    }
   ],
   "source": [
    "histories = []\n",
    "models_ = [\n",
    "    models.unet(input_shape=(img_size, img_size, 3), number_of_classes=3), \n",
    "    models.vgg5_block(input_shape=(img_size, img_size, 3), number_of_classes=3),\n",
    "    #models.vgg16(input_shape=(img_size, img_size, 3), number_of_classes=3), \n",
    "    #models.vgg19(input_shape=(img_size, img_size, 3), number_of_classes=3),\n",
    "    #models.resnet50(input_shape=(img_size, img_size, 3), number_of_classes=3), \n",
    "    #models.deeplabv3plus(input_shape=(img_size, img_size, 3), number_of_classes=3),\n",
    "    #models.nasnet_mobile(input_shape=(img_size, img_size, 3), number_of_classes=3), \n",
    "    #models.inception_resnetv2(input_shape=(img_size, img_size, 3), number_of_classes=3), \n",
    "    #models.double_unet(input_shape=(img_size, img_size, 3), number_of_classes=3)\n",
    "]\n",
    "\n",
    "for model in tqdm(models_):\n",
    "    print(model.name)\n",
    "    history =model.fit(train_x, train_y, batch_size=10,\n",
    "                    validation_split=0.2,\n",
    "                    epochs=25, \n",
    "                    #callbacks = tf.keras.callbacks.EarlyStopping(monitor='val_loss',patience=2,),\n",
    "                    verbose = 1)\n",
    "    histories.append(history)\n",
    "    MODEL_NAME = f\"{date}_{model.name}_{img_size}_{task}\"\n",
    "    save_logs(history, MODEL_NAME)\n",
    "        #save m-odel\n",
    "    tf.keras.models.save_model(\n",
    "        model,\n",
    "        f'./models/{task}/{MODEL_NAME}.h5')\n",
    "           "
   ]
  },
  {
   "cell_type": "code",
   "execution_count": null,
   "id": "a23d1f5e",
   "metadata": {},
   "outputs": [],
   "source": []
  }
 ],
 "metadata": {
  "kernelspec": {
   "display_name": "Python 3 (ipykernel)",
   "language": "python",
   "name": "python3"
  },
  "language_info": {
   "codemirror_mode": {
    "name": "ipython",
    "version": 3
   },
   "file_extension": ".py",
   "mimetype": "text/x-python",
   "name": "python",
   "nbconvert_exporter": "python",
   "pygments_lexer": "ipython3",
   "version": "3.9.7"
  }
 },
 "nbformat": 4,
 "nbformat_minor": 5
}
