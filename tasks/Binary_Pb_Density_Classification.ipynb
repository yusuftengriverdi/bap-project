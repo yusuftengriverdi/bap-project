{
 "cells": [
  {
   "cell_type": "code",
   "execution_count": 1,
   "id": "b68e7421",
   "metadata": {
    "scrolled": false
   },
   "outputs": [],
   "source": [
    "# !pip install -r requirements.txt\n",
    "## Base of notebooks\n",
    "%load_ext autoreload\n",
    "%autoreload 2\n",
    "import tensorflow as tf"
   ]
  },
  {
   "cell_type": "code",
   "execution_count": 2,
   "id": "15a5ec81",
   "metadata": {},
   "outputs": [],
   "source": [
    "from datetime import datetime\n",
    "\n",
    "now = datetime.now() # current date and time\n",
    "date = now.strftime(\"%Y-%m-%d\")\n",
    "img_size = 128\n",
    "task  = 'binarydensity-pb'"
   ]
  },
  {
   "cell_type": "code",
   "execution_count": 3,
   "id": "afae7156",
   "metadata": {},
   "outputs": [],
   "source": [
    "import sys \n",
    "sys.path.append('..')\n",
    "\n",
    "from utils import *\n",
    "import models"
   ]
  },
  {
   "cell_type": "code",
   "execution_count": 4,
   "id": "d104964f",
   "metadata": {},
   "outputs": [
    {
     "name": "stderr",
     "output_type": "stream",
     "text": [
      "100%|██████████| 51/51 [00:07<00:00,  6.84it/s]\n",
      "100%|██████████| 49/49 [00:07<00:00,  6.36it/s]\n",
      "100%|██████████| 100/100 [00:16<00:00,  6.23it/s]\n",
      "100%|██████████| 161/161 [00:24<00:00,  6.50it/s]\n",
      "100%|██████████| 153/153 [00:25<00:00,  6.09it/s]\n",
      "100%|██████████| 43/43 [00:06<00:00,  6.35it/s]\n"
     ]
    },
    {
     "name": "stdout",
     "output_type": "stream",
     "text": [
      "Al for 5 Cannot found!\n"
     ]
    },
    {
     "name": "stderr",
     "output_type": "stream",
     "text": [
      "100%|██████████| 16/16 [00:02<00:00,  5.87it/s]\n",
      "100%|██████████| 150/150 [00:23<00:00,  6.45it/s]\n",
      "100%|██████████| 136/136 [00:21<00:00,  6.27it/s]\n",
      "100%|██████████| 53/53 [00:08<00:00,  6.42it/s]\n",
      "100%|██████████| 50/50 [00:07<00:00,  6.77it/s]\n",
      "100%|██████████| 97/97 [00:14<00:00,  6.66it/s]\n",
      "100%|██████████| 150/150 [00:22<00:00,  6.61it/s]\n",
      "100%|██████████| 150/150 [00:17<00:00,  8.72it/s]"
     ]
    },
    {
     "name": "stdout",
     "output_type": "stream",
     "text": [
      "Fe2 : 51\n",
      "Fe5 : 49\n",
      "Fe10 : 100\n",
      "Fe20 : 161\n",
      "Fe200 : 153\n",
      "Al2 : 43\n",
      "Al10 : 16\n",
      "Al20 : 150\n",
      "Al200 : 136\n",
      "Pb2 : 53\n",
      "Pb5 : 50\n",
      "Pb10 : 97\n",
      "Pb20 : 150\n",
      "Pb200 : 150\n",
      "dict_keys(['Fe2', 'Fe5', 'Fe10', 'Fe20', 'Fe200', 'Al2', 'Al10', 'Al20', 'Al200', 'Pb2', 'Pb5', 'Pb10', 'Pb20', 'Pb200'])\n"
     ]
    },
    {
     "name": "stderr",
     "output_type": "stream",
     "text": [
      "\n"
     ]
    }
   ],
   "source": [
    "base_data = stack_images(im_size=img_size, directory= \"C:\\\\Users\\\\baran.tanriverdi\\\\Final Data\")"
   ]
  },
  {
   "cell_type": "code",
   "execution_count": 5,
   "id": "bb63944d",
   "metadata": {},
   "outputs": [
    {
     "data": {
      "text/plain": [
       "(49, 128, 128, 3)"
      ]
     },
     "execution_count": 5,
     "metadata": {},
     "output_type": "execute_result"
    }
   ],
   "source": [
    "np.asarray(base_data['Fe5']).shape"
   ]
  },
  {
   "cell_type": "code",
   "execution_count": 6,
   "id": "ff2b940d",
   "metadata": {},
   "outputs": [
    {
     "name": "stdout",
     "output_type": "stream",
     "text": [
      "(350, 128, 128, 3)\n",
      "(150, 128, 128, 3)\n",
      "500 350 150\n",
      "375 125\n"
     ]
    },
    {
     "name": "stderr",
     "output_type": "stream",
     "text": [
      "C:\\Users\\baran.tanriverdi\\AppData\\Local\\Temp\\ipykernel_13600\\1692269279.py:29: VisibleDeprecationWarning: Creating an ndarray from ragged nested sequences (which is a list-or-tuple of lists-or-tuples-or ndarrays with different lengths or shapes) is deprecated. If you meant to do this, you must specify 'dtype=object' when creating the ndarray.\n",
      "  data = np.asarray(imlist)\n"
     ]
    }
   ],
   "source": [
    "# Configyure for current experiment\n",
    "\n",
    "x1 = []\n",
    "for imset in [\n",
    "    base_data['Pb2'], \n",
    "    base_data['Pb5'], \n",
    "    base_data['Pb10'],\n",
    "    base_data['Pb20']]:\n",
    "    for im in imset:\n",
    "        x1.append(im)\n",
    "print(np.asarray(x1).shape)\n",
    "\n",
    "x2 = []\n",
    "for imset in [base_data['Pb200']]:\n",
    "    for im in imset:\n",
    "        x2.append(im)\n",
    "print(np.asarray(x2).shape)\n",
    "        \n",
    "\n",
    "imlist = []\n",
    "one_hot_vector = np.eye(2)\n",
    "for x in x1:\n",
    "    imlist.append([x, one_hot_vector[0]])\n",
    "for x in x2:\n",
    "    imlist.append([x, one_hot_vector[1]])  \n",
    "    \n",
    "print(len(imlist), len(x1), len(x2))\n",
    "\n",
    "data = np.asarray(imlist)\n",
    "\n",
    "np.random.shuffle(data)\n",
    "\n",
    "x = np.asarray([i[0] / 255.0 for i in data])\n",
    "y = np.asarray([i[1] for i in data])\n",
    "\n",
    "len(x), len(y)\n",
    "\n",
    "boundary = int(len(x) * 0.75)\n",
    "\n",
    "train_x = x[:boundary]\n",
    "train_y = y[:boundary]\n",
    "test_x = x[boundary:]\n",
    "test_y = y[boundary:]\n",
    "\n",
    "print(len(train_x), len(test_x))"
   ]
  },
  {
   "cell_type": "code",
   "execution_count": 8,
   "id": "cfb962c1",
   "metadata": {
    "scrolled": true
   },
   "outputs": [
    {
     "name": "stdout",
     "output_type": "stream",
     "text": [
      "<keras.engine.functional.Functional object at 0x000001D1B9A3DC40>\n"
     ]
    },
    {
     "name": "stderr",
     "output_type": "stream",
     "text": [
      "C:\\Users\\baran.tanriverdi\\Anaconda3\\envs\\tf\\lib\\site-packages\\keras\\optimizer_v2\\adam.py:105: UserWarning: The `lr` argument is deprecated, use `learning_rate` instead.\n",
      "  super(Adam, self).__init__(name, **kwargs)\n"
     ]
    },
    {
     "name": "stdout",
     "output_type": "stream",
     "text": [
      "Model: \"vgg5_block\"\n",
      "_________________________________________________________________\n",
      " Layer (type)                Output Shape              Param #   \n",
      "=================================================================\n",
      " conv2d_17 (Conv2D)          (None, 128, 128, 32)      896       \n",
      "                                                                 \n",
      " conv2d_18 (Conv2D)          (None, 128, 128, 32)      9248      \n",
      "                                                                 \n",
      " max_pooling2d_3 (MaxPooling  (None, 64, 64, 32)       0         \n",
      " 2D)                                                             \n",
      "                                                                 \n",
      " conv2d_19 (Conv2D)          (None, 64, 64, 64)        18496     \n",
      "                                                                 \n",
      " conv2d_20 (Conv2D)          (None, 64, 64, 64)        36928     \n",
      "                                                                 \n",
      " max_pooling2d_4 (MaxPooling  (None, 32, 32, 64)       0         \n",
      " 2D)                                                             \n",
      "                                                                 \n",
      " conv2d_21 (Conv2D)          (None, 32, 32, 128)       73856     \n",
      "                                                                 \n",
      " conv2d_22 (Conv2D)          (None, 32, 32, 128)       147584    \n",
      "                                                                 \n",
      " max_pooling2d_5 (MaxPooling  (None, 16, 16, 128)      0         \n",
      " 2D)                                                             \n",
      "                                                                 \n",
      " conv2d_23 (Conv2D)          (None, 16, 16, 256)       295168    \n",
      "                                                                 \n",
      " conv2d_24 (Conv2D)          (None, 16, 16, 256)       590080    \n",
      "                                                                 \n",
      " max_pooling2d_6 (MaxPooling  (None, 8, 8, 256)        0         \n",
      " 2D)                                                             \n",
      "                                                                 \n",
      " conv2d_25 (Conv2D)          (None, 8, 8, 1024)        2360320   \n",
      "                                                                 \n",
      " conv2d_26 (Conv2D)          (None, 8, 8, 1024)        9438208   \n",
      "                                                                 \n",
      " max_pooling2d_7 (MaxPooling  (None, 4, 4, 1024)       0         \n",
      " 2D)                                                             \n",
      "                                                                 \n",
      " flatten (Flatten)           (None, 16384)             0         \n",
      "                                                                 \n",
      " dense_3 (Dense)             (None, 256)               4194560   \n",
      "                                                                 \n",
      " dropout_2 (Dropout)         (None, 256)               0         \n",
      "                                                                 \n",
      " dense_4 (Dense)             (None, 32)                8224      \n",
      "                                                                 \n",
      " dropout_3 (Dropout)         (None, 32)                0         \n",
      "                                                                 \n",
      " dense_5 (Dense)             (None, 2)                 66        \n",
      "                                                                 \n",
      "=================================================================\n",
      "Total params: 17,173,634\n",
      "Trainable params: 17,173,634\n",
      "Non-trainable params: 0\n",
      "_________________________________________________________________\n",
      "None\n"
     ]
    },
    {
     "name": "stderr",
     "output_type": "stream",
     "text": [
      "\r",
      "  0%|          | 0/2 [00:00<?, ?it/s]"
     ]
    },
    {
     "name": "stdout",
     "output_type": "stream",
     "text": [
      "Epoch 1/25\n",
      "30/30 [==============================] - 1529s 51s/step - loss: 5123.5415 - accuracy: 0.6067 - f1_score: 0.5950 - cohen_kappa: -0.6170 - MatthewsCorrelationCoefficient: -0.0281 - auc: 0.6013 - val_loss: 0.6558 - val_accuracy: 0.7067 - val_f1_score: 0.5852 - val_cohen_kappa: -0.3339 - val_MatthewsCorrelationCoefficient: 0.0000e+00 - val_auc: 0.7429\n",
      "Epoch 2/25\n",
      "30/30 [==============================] - 1513s 50s/step - loss: 0.6203 - accuracy: 0.6833 - f1_score: 0.6310 - cohen_kappa: -0.4576 - MatthewsCorrelationCoefficient: 0.0418 - auc: 0.7550 - val_loss: 0.5858 - val_accuracy: 0.7067 - val_f1_score: 0.5852 - val_cohen_kappa: -0.3339 - val_MatthewsCorrelationCoefficient: 0.0000e+00 - val_auc: 0.7787\n",
      "Epoch 3/25\n",
      "30/30 [==============================] - 1526s 51s/step - loss: 0.7799 - accuracy: 0.6667 - f1_score: 0.6133 - cohen_kappa: -0.4619 - MatthewsCorrelationCoefficient: -0.0122 - auc: 0.7230 - val_loss: 0.5898 - val_accuracy: 0.7067 - val_f1_score: 0.5852 - val_cohen_kappa: -0.3339 - val_MatthewsCorrelationCoefficient: 0.0000e+00 - val_auc: 0.7337\n",
      "Epoch 4/25\n",
      "30/30 [==============================] - 1515s 51s/step - loss: 0.5859 - accuracy: 0.6900 - f1_score: 0.6167 - cohen_kappa: -0.4060 - MatthewsCorrelationCoefficient: 0.0035 - auc: 0.7756 - val_loss: 0.5808 - val_accuracy: 0.7067 - val_f1_score: 0.5852 - val_cohen_kappa: -0.3339 - val_MatthewsCorrelationCoefficient: 0.0000e+00 - val_auc: 0.7477\n",
      "Epoch 5/25\n",
      "30/30 [==============================] - 1517s 51s/step - loss: 0.5821 - accuracy: 0.7067 - f1_score: 0.6020 - cohen_kappa: -0.3423 - MatthewsCorrelationCoefficient: -0.0361 - auc: 0.7640 - val_loss: 0.5767 - val_accuracy: 0.7067 - val_f1_score: 0.5852 - val_cohen_kappa: -0.3339 - val_MatthewsCorrelationCoefficient: 0.0000e+00 - val_auc: 0.7499\n",
      "Epoch 6/25\n",
      "30/30 [==============================] - 1509s 50s/step - loss: 0.5691 - accuracy: 0.7167 - f1_score: 0.6012 - cohen_kappa: -0.3213 - MatthewsCorrelationCoefficient: -0.0361 - auc: 0.7774 - val_loss: 0.5851 - val_accuracy: 0.7067 - val_f1_score: 0.5852 - val_cohen_kappa: -0.3339 - val_MatthewsCorrelationCoefficient: 0.0000e+00 - val_auc: 0.7511\n",
      "Epoch 7/25\n",
      "30/30 [==============================] - 1511s 50s/step - loss: 0.5882 - accuracy: 0.7167 - f1_score: 0.6012 - cohen_kappa: -0.3213 - MatthewsCorrelationCoefficient: -0.0361 - auc: 0.7789 - val_loss: 0.5632 - val_accuracy: 0.7067 - val_f1_score: 0.5852 - val_cohen_kappa: -0.3339 - val_MatthewsCorrelationCoefficient: 0.0000e+00 - val_auc: 0.7673\n",
      "Epoch 8/25\n",
      "30/30 [==============================] - 1506s 50s/step - loss: 0.5695 - accuracy: 0.7200 - f1_score: 0.6028 - cohen_kappa: -0.3172 - MatthewsCorrelationCoefficient: 0.0000e+00 - auc: 0.7863 - val_loss: 0.5664 - val_accuracy: 0.7067 - val_f1_score: 0.5852 - val_cohen_kappa: -0.3339 - val_MatthewsCorrelationCoefficient: 0.0000e+00 - val_auc: 0.7808\n",
      "Epoch 9/25\n",
      "30/30 [==============================] - 1518s 51s/step - loss: 0.5680 - accuracy: 0.7233 - f1_score: 0.6105 - cohen_kappa: -0.3213 - MatthewsCorrelationCoefficient: 0.0927 - auc: 0.8046 - val_loss: 0.5603 - val_accuracy: 0.7067 - val_f1_score: 0.5852 - val_cohen_kappa: -0.3339 - val_MatthewsCorrelationCoefficient: 0.0000e+00 - val_auc: 0.7703\n",
      "Epoch 10/25\n",
      "30/30 [==============================] - 1526s 51s/step - loss: 0.5387 - accuracy: 0.7100 - f1_score: 0.5979 - cohen_kappa: -0.3297 - MatthewsCorrelationCoefficient: -0.0627 - auc: 0.8002 - val_loss: 0.5371 - val_accuracy: 0.7067 - val_f1_score: 0.5852 - val_cohen_kappa: -0.3339 - val_MatthewsCorrelationCoefficient: 0.0000e+00 - val_auc: 0.8036\n",
      "Epoch 11/25\n",
      "30/30 [==============================] - 1503s 50s/step - loss: 0.5412 - accuracy: 0.7100 - f1_score: 0.6037 - cohen_kappa: -0.3381 - MatthewsCorrelationCoefficient: -0.0232 - auc: 0.8031 - val_loss: 0.5494 - val_accuracy: 0.7067 - val_f1_score: 0.5852 - val_cohen_kappa: -0.3339 - val_MatthewsCorrelationCoefficient: 0.0000e+00 - val_auc: 0.7819\n",
      "Epoch 12/25\n",
      "30/30 [==============================] - 1515s 51s/step - loss: 0.5698 - accuracy: 0.7167 - f1_score: 0.6012 - cohen_kappa: -0.3213 - MatthewsCorrelationCoefficient: -0.0361 - auc: 0.7851 - val_loss: 0.5404 - val_accuracy: 0.7067 - val_f1_score: 0.5852 - val_cohen_kappa: -0.3339 - val_MatthewsCorrelationCoefficient: 0.0000e+00 - val_auc: 0.7909\n",
      "Epoch 13/25\n",
      "30/30 [==============================] - 1508s 50s/step - loss: 0.5453 - accuracy: 0.7167 - f1_score: 0.6012 - cohen_kappa: -0.3213 - MatthewsCorrelationCoefficient: -0.0361 - auc: 0.8053 - val_loss: 0.5682 - val_accuracy: 0.7067 - val_f1_score: 0.5852 - val_cohen_kappa: -0.3339 - val_MatthewsCorrelationCoefficient: 0.0000e+00 - val_auc: 0.7838\n",
      "Epoch 14/25\n",
      "30/30 [==============================] - 1506s 50s/step - loss: 0.5274 - accuracy: 0.7167 - f1_score: 0.6012 - cohen_kappa: -0.3213 - MatthewsCorrelationCoefficient: -0.0361 - auc: 0.8074 - val_loss: 0.5208 - val_accuracy: 0.7067 - val_f1_score: 0.5852 - val_cohen_kappa: -0.3339 - val_MatthewsCorrelationCoefficient: 0.0000e+00 - val_auc: 0.8110\n",
      "Epoch 15/25\n",
      "30/30 [==============================] - 1522s 51s/step - loss: 0.5136 - accuracy: 0.7200 - f1_score: 0.6028 - cohen_kappa: -0.3172 - MatthewsCorrelationCoefficient: 0.0000e+00 - auc: 0.8136 - val_loss: 0.5231 - val_accuracy: 0.7067 - val_f1_score: 0.5852 - val_cohen_kappa: -0.3339 - val_MatthewsCorrelationCoefficient: 0.0000e+00 - val_auc: 0.8066\n",
      "Epoch 16/25\n",
      "30/30 [==============================] - 1523s 51s/step - loss: 0.5403 - accuracy: 0.7067 - f1_score: 0.5963 - cohen_kappa: -0.3339 - MatthewsCorrelationCoefficient: -0.0725 - auc: 0.8003 - val_loss: 0.5578 - val_accuracy: 0.7067 - val_f1_score: 0.5852 - val_cohen_kappa: -0.3339 - val_MatthewsCorrelationCoefficient: 0.0000e+00 - val_auc: 0.7909\n",
      "Epoch 17/25\n",
      "30/30 [==============================] - 1513s 51s/step - loss: 0.5690 - accuracy: 0.7200 - f1_score: 0.6088 - cohen_kappa: -0.3255 - MatthewsCorrelationCoefficient: 0.0401 - auc: 0.7902 - val_loss: 0.5211 - val_accuracy: 0.7067 - val_f1_score: 0.5852 - val_cohen_kappa: -0.3339 - val_MatthewsCorrelationCoefficient: 0.0000e+00 - val_auc: 0.8041\n",
      "Epoch 18/25\n",
      "30/30 [==============================] - 1506s 50s/step - loss: 0.4966 - accuracy: 0.7167 - f1_score: 0.6012 - cohen_kappa: -0.3213 - MatthewsCorrelationCoefficient: -0.0361 - auc: 0.8288 - val_loss: 0.5243 - val_accuracy: 0.7067 - val_f1_score: 0.5852 - val_cohen_kappa: -0.3339 - val_MatthewsCorrelationCoefficient: 0.0000e+00 - val_auc: 0.8279\n",
      "Epoch 19/25\n",
      "30/30 [==============================] - 1502s 50s/step - loss: 0.5243 - accuracy: 0.7167 - f1_score: 0.6012 - cohen_kappa: -0.3213 - MatthewsCorrelationCoefficient: -0.0361 - auc: 0.8163 - val_loss: 0.5566 - val_accuracy: 0.7067 - val_f1_score: 0.5852 - val_cohen_kappa: -0.3339 - val_MatthewsCorrelationCoefficient: 0.0000e+00 - val_auc: 0.8037\n",
      "Epoch 20/25\n",
      "30/30 [==============================] - 1520s 51s/step - loss: 0.5343 - accuracy: 0.7200 - f1_score: 0.6028 - cohen_kappa: -0.3172 - MatthewsCorrelationCoefficient: 0.0000e+00 - auc: 0.8145 - val_loss: 0.4782 - val_accuracy: 0.7067 - val_f1_score: 0.5852 - val_cohen_kappa: -0.3339 - val_MatthewsCorrelationCoefficient: 0.0000e+00 - val_auc: 0.8469\n",
      "Epoch 21/25\n",
      "30/30 [==============================] - 1510s 50s/step - loss: 0.5055 - accuracy: 0.7200 - f1_score: 0.6028 - cohen_kappa: -0.3172 - MatthewsCorrelationCoefficient: 0.0000e+00 - auc: 0.8338 - val_loss: 0.4564 - val_accuracy: 0.7067 - val_f1_score: 0.5852 - val_cohen_kappa: -0.3339 - val_MatthewsCorrelationCoefficient: 0.0000e+00 - val_auc: 0.8585\n",
      "Epoch 22/25\n",
      "30/30 [==============================] - 1512s 51s/step - loss: 1.9447 - accuracy: 0.7200 - f1_score: 0.6028 - cohen_kappa: -0.3172 - MatthewsCorrelationCoefficient: 0.0000e+00 - auc: 0.8370 - val_loss: 0.5770 - val_accuracy: 0.7067 - val_f1_score: 0.5852 - val_cohen_kappa: -0.3339 - val_MatthewsCorrelationCoefficient: 0.0000e+00 - val_auc: 0.7924\n",
      "Epoch 23/25\n",
      "30/30 [==============================] - 1498s 50s/step - loss: 0.5623 - accuracy: 0.7100 - f1_score: 0.5979 - cohen_kappa: -0.3297 - MatthewsCorrelationCoefficient: -0.0627 - auc: 0.7931 - val_loss: 0.5505 - val_accuracy: 0.7067 - val_f1_score: 0.5852 - val_cohen_kappa: -0.3339 - val_MatthewsCorrelationCoefficient: 0.0000e+00 - val_auc: 0.7954\n"
     ]
    },
    {
     "name": "stdout",
     "output_type": "stream",
     "text": [
      "Epoch 24/25\n",
      "30/30 [==============================] - 1415s 47s/step - loss: 0.5125 - accuracy: 0.7200 - f1_score: 0.6146 - cohen_kappa: -0.3339 - MatthewsCorrelationCoefficient: 0.0570 - auc: 0.8180 - val_loss: 0.5344 - val_accuracy: 0.7067 - val_f1_score: 0.5852 - val_cohen_kappa: -0.3339 - val_MatthewsCorrelationCoefficient: 0.0000e+00 - val_auc: 0.8012\n",
      "Epoch 25/25\n",
      "30/30 [==============================] - 1256s 42s/step - loss: 0.5772 - accuracy: 0.7133 - f1_score: 0.6054 - cohen_kappa: -0.3339 - MatthewsCorrelationCoefficient: -0.0078 - auc: 0.8130 - val_loss: 0.5690 - val_accuracy: 0.6933 - val_f1_score: 0.6001 - val_cohen_kappa: -0.3846 - val_MatthewsCorrelationCoefficient: 0.0179 - val_auc: 0.7474\n",
      "2022-04-07_unet_128_binarydensity-pb\n"
     ]
    },
    {
     "name": "stderr",
     "output_type": "stream",
     "text": [
      "\r",
      " 50%|█████     | 1/2 [10:25:04<10:25:04, 37504.26s/it]"
     ]
    },
    {
     "name": "stdout",
     "output_type": "stream",
     "text": [
      "Epoch 1/25\n",
      "30/30 [==============================] - 105s 3s/step - loss: 0.6713 - accuracy: 0.6367 - f1_score: 0.6126 - auc: 0.6694 - val_loss: 0.6274 - val_accuracy: 0.7067 - val_f1_score: 0.5852 - val_auc: 0.7792\n",
      "Epoch 2/25\n",
      "30/30 [==============================] - 92s 3s/step - loss: 0.6225 - accuracy: 0.6900 - f1_score: 0.6125 - auc: 0.7216 - val_loss: 0.6054 - val_accuracy: 0.7067 - val_f1_score: 0.5852 - val_auc: 0.8231\n",
      "Epoch 3/25\n",
      "30/30 [==============================] - 91s 3s/step - loss: 0.5635 - accuracy: 0.7367 - f1_score: 0.6589 - auc: 0.7900 - val_loss: 0.5337 - val_accuracy: 0.7467 - val_f1_score: 0.6697 - val_auc: 0.8347\n",
      "Epoch 4/25\n",
      "30/30 [==============================] - 90s 3s/step - loss: 0.5530 - accuracy: 0.7567 - f1_score: 0.7165 - auc: 0.8174 - val_loss: 0.4865 - val_accuracy: 0.7600 - val_f1_score: 0.6943 - val_auc: 0.8801\n",
      "Epoch 5/25\n",
      "30/30 [==============================] - 90s 3s/step - loss: 0.4803 - accuracy: 0.7867 - f1_score: 0.7624 - auc: 0.8622 - val_loss: 0.4411 - val_accuracy: 0.8267 - val_f1_score: 0.7998 - val_auc: 0.9044\n",
      "Epoch 6/25\n",
      "30/30 [==============================] - 88s 3s/step - loss: 0.4541 - accuracy: 0.8067 - f1_score: 0.7932 - auc: 0.8782 - val_loss: 0.4165 - val_accuracy: 0.9067 - val_f1_score: 0.9073 - val_auc: 0.9446\n",
      "Epoch 7/25\n",
      "30/30 [==============================] - 81s 3s/step - loss: 0.4323 - accuracy: 0.8167 - f1_score: 0.8117 - auc: 0.8882 - val_loss: 0.4453 - val_accuracy: 0.7600 - val_f1_score: 0.6943 - val_auc: 0.8804\n",
      "Epoch 8/25\n",
      "30/30 [==============================] - 87s 3s/step - loss: 0.3992 - accuracy: 0.8300 - f1_score: 0.8245 - auc: 0.9090 - val_loss: 0.4684 - val_accuracy: 0.7600 - val_f1_score: 0.6943 - val_auc: 0.8816\n",
      "Epoch 9/25\n",
      "30/30 [==============================] - 90s 3s/step - loss: 0.4087 - accuracy: 0.8267 - f1_score: 0.8206 - auc: 0.8984 - val_loss: 0.3117 - val_accuracy: 0.9200 - val_f1_score: 0.9200 - val_auc: 0.9641\n",
      "Epoch 10/25\n",
      "30/30 [==============================] - 89s 3s/step - loss: 0.4140 - accuracy: 0.8433 - f1_score: 0.8405 - auc: 0.9091 - val_loss: 0.3076 - val_accuracy: 0.9333 - val_f1_score: 0.9318 - val_auc: 0.9621\n",
      "Epoch 11/25\n",
      "30/30 [==============================] - 88s 3s/step - loss: 0.3322 - accuracy: 0.8700 - f1_score: 0.8664 - auc: 0.9412 - val_loss: 0.2456 - val_accuracy: 0.9200 - val_f1_score: 0.9200 - val_auc: 0.9803\n",
      "Epoch 12/25\n",
      "30/30 [==============================] - 88s 3s/step - loss: 0.3083 - accuracy: 0.8833 - f1_score: 0.8801 - auc: 0.9465 - val_loss: 0.2452 - val_accuracy: 0.9333 - val_f1_score: 0.9318 - val_auc: 0.9646\n",
      "Epoch 13/25\n",
      "30/30 [==============================] - 88s 3s/step - loss: 0.3676 - accuracy: 0.8467 - f1_score: 0.8472 - auc: 0.9182 - val_loss: 0.7083 - val_accuracy: 0.7333 - val_f1_score: 0.6434 - val_auc: 0.8741\n",
      "Epoch 14/25\n",
      "30/30 [==============================] - 87s 3s/step - loss: 0.3552 - accuracy: 0.8700 - f1_score: 0.8644 - auc: 0.9342 - val_loss: 0.2352 - val_accuracy: 0.9333 - val_f1_score: 0.9318 - val_auc: 0.9769\n",
      "Epoch 15/25\n",
      "30/30 [==============================] - 86s 3s/step - loss: 0.2974 - accuracy: 0.8900 - f1_score: 0.8889 - auc: 0.9494 - val_loss: 0.1918 - val_accuracy: 0.9333 - val_f1_score: 0.9338 - val_auc: 0.9889\n",
      "Epoch 16/25\n",
      "30/30 [==============================] - 87s 3s/step - loss: 0.2613 - accuracy: 0.8933 - f1_score: 0.8921 - auc: 0.9594 - val_loss: 0.2160 - val_accuracy: 0.9333 - val_f1_score: 0.9351 - val_auc: 0.9852\n",
      "Epoch 17/25\n",
      "30/30 [==============================] - 90s 3s/step - loss: 0.2898 - accuracy: 0.8933 - f1_score: 0.8921 - auc: 0.9518 - val_loss: 0.2152 - val_accuracy: 0.9467 - val_f1_score: 0.9450 - val_auc: 0.9724\n",
      "Epoch 18/25\n",
      "30/30 [==============================] - 86s 3s/step - loss: 0.2490 - accuracy: 0.9133 - f1_score: 0.9127 - auc: 0.9650 - val_loss: 0.1698 - val_accuracy: 0.9467 - val_f1_score: 0.9473 - val_auc: 0.9911\n",
      "Epoch 19/25\n",
      "30/30 [==============================] - 88s 3s/step - loss: 0.2841 - accuracy: 0.8967 - f1_score: 0.8957 - auc: 0.9526 - val_loss: 0.2139 - val_accuracy: 0.9600 - val_f1_score: 0.9607 - val_auc: 0.9892\n",
      "Epoch 20/25\n",
      "30/30 [==============================] - 88s 3s/step - loss: 0.2163 - accuracy: 0.9467 - f1_score: 0.9463 - auc: 0.9762 - val_loss: 0.1652 - val_accuracy: 0.9467 - val_f1_score: 0.9473 - val_auc: 0.9918\n",
      "Epoch 21/25\n",
      "30/30 [==============================] - 87s 3s/step - loss: 0.2480 - accuracy: 0.9100 - f1_score: 0.9095 - auc: 0.9637 - val_loss: 0.1428 - val_accuracy: 0.9467 - val_f1_score: 0.9459 - val_auc: 0.9927\n",
      "Epoch 22/25\n",
      "30/30 [==============================] - 89s 3s/step - loss: 0.2111 - accuracy: 0.9433 - f1_score: 0.9428 - auc: 0.9733 - val_loss: 0.1363 - val_accuracy: 0.9467 - val_f1_score: 0.9459 - val_auc: 0.9929\n",
      "Epoch 23/25\n",
      "30/30 [==============================] - 87s 3s/step - loss: 0.1639 - accuracy: 0.9433 - f1_score: 0.9432 - auc: 0.9854 - val_loss: 0.1126 - val_accuracy: 0.9733 - val_f1_score: 0.9733 - val_auc: 0.9961\n",
      "Epoch 24/25\n",
      "30/30 [==============================] - 87s 3s/step - loss: 0.1724 - accuracy: 0.9500 - f1_score: 0.9497 - auc: 0.9809 - val_loss: 0.1767 - val_accuracy: 0.9467 - val_f1_score: 0.9478 - val_auc: 0.9861\n",
      "Epoch 25/25\n",
      "30/30 [==============================] - 87s 3s/step - loss: 0.1802 - accuracy: 0.9467 - f1_score: 0.9465 - auc: 0.9816 - val_loss: 0.1068 - val_accuracy: 0.9600 - val_f1_score: 0.9597 - val_auc: 0.9966\n",
      "2022-04-07_vgg5_block_128_binarydensity-pb\n"
     ]
    },
    {
     "name": "stderr",
     "output_type": "stream",
     "text": [
      "100%|██████████| 2/2 [11:02:01<00:00, 19860.83s/it]   \n"
     ]
    }
   ],
   "source": [
    "histories = []\n",
    "models_ = [\n",
    "    models.unet(input_shape=(img_size, img_size, 3)), \n",
    "    models.vgg5_block(input_shape=(img_size, img_size, 3)),\n",
    "    #models.vgg16(input_shape=(img_size, img_size, 3)), \n",
    "    #models.vgg19(input_shape=(img_size, img_size, 3)),\n",
    "    #models.resnet50(input_shape=(img_size, img_size, 3)), \n",
    "    #models.deeplabv3plus(input_shape=(img_size, img_size, 3)),\n",
    "    #models.nasnet_mobile(input_shape=(img_size, img_size, 3)), \n",
    "    #models.inception_resnetv2(input_shape=(img_size, img_size, 3)), \n",
    "    #models.double_unet(input_shape=(img_size, img_size, 3)),\n",
    "]\n",
    "\n",
    "for model in tqdm(models_):\n",
    "    history =model.fit(train_x, train_y, batch_size=10,\n",
    "                    validation_split=0.2,\n",
    "                    epochs=25, \n",
    "                    #callbacks = tf.keras.callbacks.EarlyStopping(monitor='val_loss',patience=2,),\n",
    "                    verbose = 1)\n",
    "    histories.append(history)\n",
    "    MODEL_NAME = f\"{date}_{model.name}_{img_size}_{task}\"\n",
    "    print(MODEL_NAME)\n",
    "    save_logs(history, MODEL_NAME)\n",
    "        #save m-odel\n",
    "    tf.keras.models.save_model(\n",
    "        model,\n",
    "        f'./models/{task}/{MODEL_NAME}.h5')\n",
    "           "
   ]
  },
  {
   "cell_type": "code",
   "execution_count": null,
   "id": "6acdf007",
   "metadata": {},
   "outputs": [],
   "source": []
  }
 ],
 "metadata": {
  "kernelspec": {
   "display_name": "Python 3 (ipykernel)",
   "language": "python",
   "name": "python3"
  },
  "language_info": {
   "codemirror_mode": {
    "name": "ipython",
    "version": 3
   },
   "file_extension": ".py",
   "mimetype": "text/x-python",
   "name": "python",
   "nbconvert_exporter": "python",
   "pygments_lexer": "ipython3",
   "version": "3.9.7"
  }
 },
 "nbformat": 4,
 "nbformat_minor": 5
}
